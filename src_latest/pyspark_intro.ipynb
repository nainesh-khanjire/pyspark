{
 "cells": [
  {
   "cell_type": "markdown",
   "id": "3ac6a26f-ceb2-4de5-9bf8-62a0b6b69083",
   "metadata": {},
   "source": [
    "spark components at high level:\n",
    "> low level api : RDD, distributed variable\n",
    "\n",
    "> structured api : dataframes, datasets, SQL\n",
    "\n",
    "> Libraries and ecosystem , streaming and advanced analytics\n",
    "\n",
    ">"
   ]
  },
  {
   "cell_type": "markdown",
   "id": "0395152e-1398-430a-8b6f-a6a55a90528d",
   "metadata": {},
   "source": [
    "used for parallel data processing only, data is not stored anywehre.\n",
    "1. spark SQL\n",
    "2. streaming\n",
    "3. MLlib\n",
    "4. Graphx\n",
    "5. SparkR\n",
    "   spark is written in scala\n",
    "\n",
    "## Main components\n",
    "   ### spark session (master node/Driver) >> cluster manager >> executor/worker node\n",
    "\n",
    "  this processing happens on unified (ANYONE CAN USE SAME COMPUTER)computer cluster\n",
    "  master node > slave node\n",
    "              > slave node\n",
    "\n",
    "data is processed in RAM, using lazy evaluation\n"
   ]
  },
  {
   "cell_type": "markdown",
   "id": "e1503c73-07e7-41a2-a132-afc7acd9eb19",
   "metadata": {},
   "source": [
    "previously data format was tabular\n",
    "then file, text, csv, image, video, audio format data was introduced\n",
    "structured data: key value system\n",
    "\n",
    "## 3 v's of big data > \n",
    "1. velocity > 1 sec, 1 hour\n",
    "2. volume > 5GB, 10TB\n",
    "3. variety > structured, semi structured, unstructured\n",
    "\n",
    "ETL, ELT\n",
    "\n",
    "issues of handling big data > storage, processing (ram, cpu)\n",
    "\n",
    "## 2 options : \n",
    "1. Monolithic approach > vertical scaling, expensive, low availability\n",
    "2. Distributed approach > horizonatl scaling, economical, highly available\n",
    "\n",
    "## HADOOP :\n",
    "1. hadoop also uses ram, it is slow because i writes data to disk and reads back from disk to memory.\n",
    "if it does not write and read back from disk then it wont matter\n",
    "\n",
    "2. Batch data processing\n",
    "3. difficult to write code in hadoop\n",
    "4. more secure with kerberos authentication, ACL (access control list) authorization\n",
    "YARN > kerberos\n",
    "5. fault tolerance >. it has block of data and replication factor to handle the failure\n",
    "\n",
    "\n",
    "\n",
    "\n",
    "## SPARK :\n",
    "1. spark is faster because it does all the computation in ram (in memory), it writes data in memory in ram of the executor\n",
    "2. both streaming and batch data processing\n",
    "3. easy to write code, also can be written inn depth\n",
    "4. uses HDFS storage, ,ACL > kerberos > less secure\n",
    "5. uses directed acyclic graph DAG > RDD which is immutable, it knows how the process is created using dag\n",
    "\n",
    "## Libraries for high level api:\n",
    "datatframe spark sql, streaming, ML lib, GraphX >> dataframe\n",
    "## low level api: spark core\n",
    "python, java, R, scala >> RDD (not used nowadays)\n",
    "\n",
    "everything is under spark engine\n",
    "\n",
    "\n",
    "spark core >> java wrapper >> python wrapper|\n",
    "there is no pyspark driver\n"
   ]
  },
  {
   "cell_type": "markdown",
   "id": "618bc0ad-41c0-4cc2-bc55-82f5f01d35a6",
   "metadata": {},
   "source": [
    "if python udf used in pyspark code, > udf is not optimized, we need python worker to execute them, which is time consuming\n",
    "> so use inbuilt functions as much as possible\n"
   ]
  },
  {
   "cell_type": "markdown",
   "id": "bbb3ceaa-e4e1-42c0-85d2-81d4c440bc1a",
   "metadata": {},
   "source": [
    "## TRANSFORMATION in pyspark "
   ]
  },
  {
   "cell_type": "markdown",
   "id": "29afa277-ac9e-4ca9-b989-c88bf86ff94e",
   "metadata": {},
   "source": [
    "> narrow dependency transformation\n",
    "\n",
    "1. transformations which are not dependent on any other partition called narrow dependency\n",
    "2. example: filter, select, union, map() etc\n",
    "3. example: show me people with age > 18\n",
    "   \n",
    "> wide dependency transformation\n",
    "1. this needs data to be used from 1 partition to other and it is dependent on other partitions as well\n",
    "2. avoid wide transformations as much as possible because they are expensive to execute\n",
    "3. example: sum of everyones total salary, where data is partitioned, here data needs to be shuffled\n",
    "\n",
    "   \n",
    "\n"
   ]
  },
  {
   "cell_type": "markdown",
   "id": "8c62e317-6b9d-4bd7-bc9a-dbac6adf5776",
   "metadata": {},
   "source": [
    "> jobs created  for each  action in spark lineage\n",
    "> \n",
    "> every action will have one dag  and every job will have its own dag "
   ]
  },
  {
   "cell_type": "code",
   "execution_count": 2,
   "id": "88eb5d37-724f-4beb-ab33-9022c4ffd49e",
   "metadata": {},
   "outputs": [],
   "source": [
    "from pyspark.sql import SparkSession\n",
    "\n"
   ]
  },
  {
   "cell_type": "code",
   "execution_count": 3,
   "id": "a1d9b4b3-5cb2-43b2-8328-958664240e0a",
   "metadata": {},
   "outputs": [
    {
     "data": {
      "text/html": [
       "\n",
       "            <div>\n",
       "                <p><b>SparkSession - in-memory</b></p>\n",
       "                \n",
       "        <div>\n",
       "            <p><b>SparkContext</b></p>\n",
       "\n",
       "            <p><a href=\"http://zephyrus:4040\">Spark UI</a></p>\n",
       "\n",
       "            <dl>\n",
       "              <dt>Version</dt>\n",
       "                <dd><code>v3.5.2</code></dd>\n",
       "              <dt>Master</dt>\n",
       "                <dd><code>local[*]</code></dd>\n",
       "              <dt>AppName</dt>\n",
       "                <dd><code>flights</code></dd>\n",
       "            </dl>\n",
       "        </div>\n",
       "        \n",
       "            </div>\n",
       "        "
      ],
      "text/plain": [
       "<pyspark.sql.session.SparkSession at 0x194c8f91280>"
      ]
     },
     "execution_count": 3,
     "metadata": {},
     "output_type": "execute_result"
    }
   ],
   "source": [
    "spark = SparkSession.builder.appName(\"flights\").getOrCreate() \n",
    "spark"
   ]
  },
  {
   "cell_type": "code",
   "execution_count": 4,
   "id": "2b54a4af-4152-434d-8412-1a542438a2e1",
   "metadata": {},
   "outputs": [],
   "source": [
    "flights = spark.read.format(\"csv\").option(\"header\", \"true\").option(\"inferSchema\", \"true\").load(\"../data/flights.csv\")\n"
   ]
  },
  {
   "cell_type": "code",
   "execution_count": 5,
   "id": "ad38aca4-3f4a-4a41-bf76-cc17783777df",
   "metadata": {},
   "outputs": [
    {
     "data": {
      "text/plain": [
       "['Year',\n",
       " 'Month',\n",
       " 'DayofMonth',\n",
       " 'DayOfWeek',\n",
       " 'DepTime',\n",
       " 'CRSDepTime',\n",
       " 'ArrTime',\n",
       " 'CRSArrTime',\n",
       " 'UniqueCarrier',\n",
       " 'FlightNum',\n",
       " 'TailNum',\n",
       " 'ActualElapsedTime',\n",
       " 'CRSElapsedTime',\n",
       " 'AirTime',\n",
       " 'ArrDelay',\n",
       " 'DepDelay',\n",
       " 'Origin',\n",
       " 'Dest',\n",
       " 'Distance',\n",
       " 'TaxiIn',\n",
       " 'TaxiOut',\n",
       " 'Cancelled',\n",
       " 'CancellationCode',\n",
       " 'Diverted',\n",
       " 'CarrierDelay',\n",
       " 'WeatherDelay',\n",
       " 'NASDelay',\n",
       " 'SecurityDelay',\n",
       " 'LateAircraftDelay']"
      ]
     },
     "execution_count": 5,
     "metadata": {},
     "output_type": "execute_result"
    }
   ],
   "source": [
    "flights.columns"
   ]
  },
  {
   "cell_type": "code",
   "execution_count": 19,
   "id": "36b1875c-6884-4ed3-9701-590ec55a0bb1",
   "metadata": {},
   "outputs": [
    {
     "name": "stdout",
     "output_type": "stream",
     "text": [
      "+----+-----+----------+---------+-------+----------+-------+----------+-------------+---------+-------+-----------------+--------------+-------+--------+--------+------+----+--------+------+-------+---------+----------------+--------+------------+------------+--------+-------------+-----------------+\n",
      "|Year|Month|DayofMonth|DayOfWeek|DepTime|CRSDepTime|ArrTime|CRSArrTime|UniqueCarrier|FlightNum|TailNum|ActualElapsedTime|CRSElapsedTime|AirTime|ArrDelay|DepDelay|Origin|Dest|Distance|TaxiIn|TaxiOut|Cancelled|CancellationCode|Diverted|CarrierDelay|WeatherDelay|NASDelay|SecurityDelay|LateAircraftDelay|\n",
      "+----+-----+----------+---------+-------+----------+-------+----------+-------------+---------+-------+-----------------+--------------+-------+--------+--------+------+----+--------+------+-------+---------+----------------+--------+------------+------------+--------+-------------+-----------------+\n",
      "|2008|    1|         3|        4|   2003|      1955|   2211|      2225|           WN|      335| N712SW|              128|           150|    116|     -14|       8|   IAD| TPA|     810|     4|      8|        0|            NULL|       0|          NA|          NA|      NA|           NA|               NA|\n",
      "|2008|    1|         3|        4|    754|       735|   1002|      1000|           WN|     3231| N772SW|              128|           145|    113|       2|      19|   IAD| TPA|     810|     5|     10|        0|            NULL|       0|          NA|          NA|      NA|           NA|               NA|\n",
      "|2008|    1|         3|        4|    628|       620|    804|       750|           WN|      448| N428WN|               96|            90|     76|      14|       8|   IND| BWI|     515|     3|     17|        0|            NULL|       0|          NA|          NA|      NA|           NA|               NA|\n",
      "|2008|    1|         3|        4|    926|       930|   1054|      1100|           WN|     1746| N612SW|               88|            90|     78|      -6|      -4|   IND| BWI|     515|     3|      7|        0|            NULL|       0|          NA|          NA|      NA|           NA|               NA|\n",
      "|2008|    1|         3|        4|   1829|      1755|   1959|      1925|           WN|     3920| N464WN|               90|            90|     77|      34|      34|   IND| BWI|     515|     3|     10|        0|            NULL|       0|           2|           0|       0|            0|               32|\n",
      "|2008|    1|         3|        4|   1940|      1915|   2121|      2110|           WN|      378| N726SW|              101|           115|     87|      11|      25|   IND| JAX|     688|     4|     10|        0|            NULL|       0|          NA|          NA|      NA|           NA|               NA|\n",
      "|2008|    1|         3|        4|   1937|      1830|   2037|      1940|           WN|      509| N763SW|              240|           250|    230|      57|      67|   IND| LAS|    1591|     3|      7|        0|            NULL|       0|          10|           0|       0|            0|               47|\n",
      "|2008|    1|         3|        4|   1039|      1040|   1132|      1150|           WN|      535| N428WN|              233|           250|    219|     -18|      -1|   IND| LAS|    1591|     7|      7|        0|            NULL|       0|          NA|          NA|      NA|           NA|               NA|\n",
      "|2008|    1|         3|        4|    617|       615|    652|       650|           WN|       11| N689SW|               95|            95|     70|       2|       2|   IND| MCI|     451|     6|     19|        0|            NULL|       0|          NA|          NA|      NA|           NA|               NA|\n",
      "|2008|    1|         3|        4|   1620|      1620|   1639|      1655|           WN|      810| N648SW|               79|            95|     70|     -16|       0|   IND| MCI|     451|     3|      6|        0|            NULL|       0|          NA|          NA|      NA|           NA|               NA|\n",
      "|2008|    1|         3|        4|    706|       700|    916|       915|           WN|      100| N690SW|              130|           135|    106|       1|       6|   IND| MCO|     828|     5|     19|        0|            NULL|       0|          NA|          NA|      NA|           NA|               NA|\n",
      "|2008|    1|         3|        4|   1644|      1510|   1845|      1725|           WN|     1333| N334SW|              121|           135|    107|      80|      94|   IND| MCO|     828|     6|      8|        0|            NULL|       0|           8|           0|       0|            0|               72|\n",
      "|2008|    1|         3|        4|   1426|      1430|   1426|      1425|           WN|      829| N476WN|               60|            55|     39|       1|      -4|   IND| MDW|     162|     9|     12|        0|            NULL|       0|          NA|          NA|      NA|           NA|               NA|\n",
      "|2008|    1|         3|        4|    715|       715|    720|       710|           WN|     1016| N765SW|               65|            55|     37|      10|       0|   IND| MDW|     162|     7|     21|        0|            NULL|       0|          NA|          NA|      NA|           NA|               NA|\n",
      "|2008|    1|         3|        4|   1702|      1700|   1651|      1655|           WN|     1827| N420WN|               49|            55|     35|      -4|       2|   IND| MDW|     162|     4|     10|        0|            NULL|       0|          NA|          NA|      NA|           NA|               NA|\n",
      "|2008|    1|         3|        4|   1029|      1020|   1021|      1010|           WN|     2272| N263WN|               52|            50|     37|      11|       9|   IND| MDW|     162|     6|      9|        0|            NULL|       0|          NA|          NA|      NA|           NA|               NA|\n",
      "|2008|    1|         3|        4|   1452|      1425|   1640|      1625|           WN|      675| N286WN|              228|           240|    213|      15|      27|   IND| PHX|    1489|     7|      8|        0|            NULL|       0|           3|           0|       0|            0|               12|\n",
      "|2008|    1|         3|        4|    754|       745|    940|       955|           WN|     1144| N778SW|              226|           250|    205|     -15|       9|   IND| PHX|    1489|     5|     16|        0|            NULL|       0|          NA|          NA|      NA|           NA|               NA|\n",
      "|2008|    1|         3|        4|   1323|      1255|   1526|      1510|           WN|        4| N674AA|              123|           135|    110|      16|      28|   IND| TPA|     838|     4|      9|        0|            NULL|       0|           0|           0|       0|            0|               16|\n",
      "|2008|    1|         3|        4|   1416|      1325|   1512|      1435|           WN|       54| N643SW|               56|            70|     49|      37|      51|   ISP| BWI|     220|     2|      5|        0|            NULL|       0|          12|           0|       0|            0|               25|\n",
      "+----+-----+----------+---------+-------+----------+-------+----------+-------------+---------+-------+-----------------+--------------+-------+--------+--------+------+----+--------+------+-------+---------+----------------+--------+------------+------------+--------+-------------+-----------------+\n",
      "only showing top 20 rows\n",
      "\n"
     ]
    }
   ],
   "source": [
    "\n",
    "flights.show()"
   ]
  },
  {
   "cell_type": "code",
   "execution_count": 6,
   "id": "79fce3a3-b513-4d04-a814-784465928a56",
   "metadata": {},
   "outputs": [],
   "source": [
    "flight_data_partition = flights.repartition(3)\n",
    "\n"
   ]
  },
  {
   "cell_type": "code",
   "execution_count": 21,
   "id": "da5d7fbf-eef1-4596-8bd0-45088f671512",
   "metadata": {},
   "outputs": [],
   "source": [
    "las_data = flights.filter(\"Dest=='LAS'\")\n"
   ]
  },
  {
   "cell_type": "code",
   "execution_count": 28,
   "id": "9e0de81a-d68a-415f-b8b2-88631a6b085f",
   "metadata": {},
   "outputs": [],
   "source": [
    "ind_las_data = las_data.filter(las_data.Origin == 'IND')\n"
   ]
  },
  {
   "cell_type": "code",
   "execution_count": 35,
   "id": "21f6d569-fc39-4787-aa04-42c533e90b1c",
   "metadata": {},
   "outputs": [],
   "source": [
    "total_flight_ind_las = ind_las_data.groupby(ind_las_data.Dest).sum()\n"
   ]
  },
  {
   "cell_type": "markdown",
   "id": "abadbfc7-41a9-47b2-986e-765805ebdb6e",
   "metadata": {},
   "source": [
    " ### spark does lazy evaluation for above all transformations"
   ]
  },
  {
   "cell_type": "code",
   "execution_count": 36,
   "id": "e2a3e77a-6e53-472d-ba2a-29325dec02f8",
   "metadata": {},
   "outputs": [
    {
     "name": "stdout",
     "output_type": "stream",
     "text": [
      "+----+---------+----------+---------------+--------------+---------------+---------------+--------------+-------------------+-------------+--------------+-------------+\n",
      "|Dest|sum(Year)|sum(Month)|sum(DayofMonth)|sum(DayOfWeek)|sum(CRSDepTime)|sum(CRSArrTime)|sum(FlightNum)|sum(CRSElapsedTime)|sum(Distance)|sum(Cancelled)|sum(Diverted)|\n",
      "+----+---------+----------+---------------+--------------+---------------+---------------+--------------+-------------------+-------------+--------------+-------------+\n",
      "| LAS|   116464|        58|            986|           232|          84940|          91320|         70651|              14500|        92278|             0|            0|\n",
      "+----+---------+----------+---------------+--------------+---------------+---------------+--------------+-------------------+-------------+--------------+-------------+\n",
      "\n"
     ]
    }
   ],
   "source": [
    "total_flight_ind_las.show()"
   ]
  },
  {
   "cell_type": "markdown",
   "id": "899daf8f-8ce6-4c62-ae27-bd94e1ee29e0",
   "metadata": {},
   "source": [
    ">\n",
    "> spark ui has all the details about above transformations and actions "
   ]
  },
  {
   "cell_type": "code",
   "execution_count": null,
   "id": "5f09a374-aa04-4a31-8cf9-d46b3474a51f",
   "metadata": {},
   "outputs": [],
   "source": []
  }
 ],
 "metadata": {
  "kernelspec": {
   "display_name": "PYSPARK_KERNEL",
   "language": "python",
   "name": "pyspark_kernel"
  },
  "language_info": {
   "codemirror_mode": {
    "name": "ipython",
    "version": 3
   },
   "file_extension": ".py",
   "mimetype": "text/x-python",
   "name": "python",
   "nbconvert_exporter": "python",
   "pygments_lexer": "ipython3",
   "version": "3.12.5"
  }
 },
 "nbformat": 4,
 "nbformat_minor": 5
}
