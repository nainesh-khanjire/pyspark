{
 "cells": [
  {
   "cell_type": "markdown",
   "id": "eacbc72f-585b-4d52-b2cc-d158e685cacd",
   "metadata": {},
   "source": [
    "### repartioning vs coalesce\n",
    "\n"
   ]
  },
  {
   "cell_type": "markdown",
   "id": "b9346707-55ed-4579-8637-19cf75bb4f8a",
   "metadata": {},
   "source": []
  },
  {
   "cell_type": "markdown",
   "id": "10fe61f0-41de-4e27-b416-c4ad6b9027d8",
   "metadata": {},
   "source": []
  },
  {
   "cell_type": "markdown",
   "id": "cb0df5e8-388e-4546-b7c6-acfe5ad4e320",
   "metadata": {},
   "source": []
  },
  {
   "cell_type": "markdown",
   "id": "09c9149e-1d63-4d70-bea8-140bca2b99e4",
   "metadata": {},
   "source": []
  },
  {
   "cell_type": "markdown",
   "id": "3084716b-99dd-403a-9f2b-94fc4a5e99f2",
   "metadata": {},
   "source": []
  },
  {
   "cell_type": "markdown",
   "id": "f1041778-a2d3-4fc1-91e3-01bef9a0d750",
   "metadata": {},
   "source": []
  },
  {
   "cell_type": "markdown",
   "id": "c4ad94e2-8dde-40c0-aa33-1c4a808854b1",
   "metadata": {},
   "source": []
  },
  {
   "cell_type": "markdown",
   "id": "bb7dd4b9-207c-46e3-933b-975d02d15622",
   "metadata": {},
   "source": []
  },
  {
   "cell_type": "markdown",
   "id": "b2fd0fba-8174-401e-ad60-95a0928609d1",
   "metadata": {},
   "source": []
  },
  {
   "cell_type": "markdown",
   "id": "892a9fe8-63f5-461b-8799-a07606642e73",
   "metadata": {},
   "source": []
  },
  {
   "cell_type": "markdown",
   "id": "98f680f6-dc88-497d-be0d-78310b33fd89",
   "metadata": {},
   "source": []
  },
  {
   "cell_type": "markdown",
   "id": "1a07d669-fc34-41ac-bc69-c59aaf68d233",
   "metadata": {},
   "source": []
  },
  {
   "cell_type": "markdown",
   "id": "ba8948e7-7cdd-4076-9f0b-557f6031403d",
   "metadata": {},
   "source": []
  },
  {
   "cell_type": "markdown",
   "id": "84f1c02d-bcb9-42f7-a7e1-97543fdb49fe",
   "metadata": {},
   "source": []
  }
 ],
 "metadata": {
  "kernelspec": {
   "display_name": "PYSPARK_KERNEL",
   "language": "python",
   "name": "pyspark_kernel"
  },
  "language_info": {
   "codemirror_mode": {
    "name": "ipython",
    "version": 3
   },
   "file_extension": ".py",
   "mimetype": "text/x-python",
   "name": "python",
   "nbconvert_exporter": "python",
   "pygments_lexer": "ipython3",
   "version": "3.12.5"
  }
 },
 "nbformat": 4,
 "nbformat_minor": 5
}
