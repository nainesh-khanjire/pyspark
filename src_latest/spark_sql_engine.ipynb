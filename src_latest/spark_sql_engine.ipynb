{
 "cells": [
  {
   "cell_type": "markdown",
   "id": "b07a5089-d538-42dd-bd02-a988c0728d94",
   "metadata": {},
   "source": [
    "## SPARK SQL ENGINE\n",
    "\n",
    "> structured API execution\n",
    "\n"
   ]
  },
  {
   "cell_type": "markdown",
   "id": "8689b424-9e03-44bf-adfc-de183e9236a2",
   "metadata": {},
   "source": [
    "## QUESTIONS  >>\n",
    "\n",
    "1.  what is catalyst optomizer and spark sql analyzer?\n",
    "2.  why do we get analysis exception error ?\n",
    "3.  what is catalog ?\n",
    "4.  what is physical planning / spark plan ?\n",
    "5.  is spark sql engine a compiler -- yes it converts code into java byte code\n",
    "6.  how many phases are involved in spark sql engine to convert code into java byte code ? -- 4"
   ]
  },
  {
   "cell_type": "markdown",
   "id": "963239e2-6072-4818-aada-5fae3585253d",
   "metadata": {},
   "source": [
    "# SPARK SQL ENGINE"
   ]
  },
  {
   "cell_type": "markdown",
   "id": "6b726498-5c1d-449c-ab89-84987002d541",
   "metadata": {},
   "source": [
    "we can write 3 code >\n",
    "1. SQL\n",
    "2. Dataframe API\n",
    "3. Dataset\n",
    "\n",
    "at high level >\n",
    "\n",
    "all of above code goes to catalyst optimizer (SPARK SQL ENGINE) which converts code into java byte code (RDD)\n",
    "SPARK SQL ENGINE has 4 phases :\n",
    "1. Analysis\n",
    "2. logical planning\n",
    "3. physical planning\n",
    "4. code conversion\n",
    "\n",
    "> flow of execution in spark >\n",
    "\n",
    "CODE --> UNRESOLVED LOGICAL PLAN -->(analysis)--> RESOLVED LOGICAL PLAN --> (logical optimization) --> OPTIMIZED LOGICAL PLAN --> PHYSICAL PLAN --> (cost model) --> BEST PHYSICAL PLAN --> FINAL CODE\n"
   ]
  },
  {
   "cell_type": "code",
   "execution_count": null,
   "id": "7c141417-7611-4ba4-981a-6ee18fcc682c",
   "metadata": {},
   "outputs": [],
   "source": []
  },
  {
   "cell_type": "code",
   "execution_count": null,
   "id": "31dca751-4629-41fc-9156-f4d97a59c0fb",
   "metadata": {},
   "outputs": [],
   "source": []
  },
  {
   "cell_type": "code",
   "execution_count": null,
   "id": "b7250687-424e-4280-b345-aba9b16769f1",
   "metadata": {},
   "outputs": [],
   "source": []
  },
  {
   "cell_type": "code",
   "execution_count": null,
   "id": "ea5a2c1c-fa60-4bf0-89d2-1c7d3ede6a7a",
   "metadata": {},
   "outputs": [],
   "source": []
  },
  {
   "cell_type": "code",
   "execution_count": null,
   "id": "7c29b250-5a2f-4ce2-b110-8b42e626d45c",
   "metadata": {},
   "outputs": [],
   "source": []
  },
  {
   "cell_type": "code",
   "execution_count": null,
   "id": "7598ade8-0175-4402-b46c-0732593367bf",
   "metadata": {},
   "outputs": [],
   "source": []
  },
  {
   "cell_type": "code",
   "execution_count": null,
   "id": "6f9cc873-ce0e-415d-8e79-3d7eb50ffb7f",
   "metadata": {},
   "outputs": [],
   "source": []
  },
  {
   "cell_type": "code",
   "execution_count": null,
   "id": "3b2070db-bedb-4e59-a2a6-4051273f99f8",
   "metadata": {},
   "outputs": [],
   "source": []
  },
  {
   "cell_type": "code",
   "execution_count": null,
   "id": "f4c8dca2-ea9b-4c24-8c71-3d165d6a75d2",
   "metadata": {},
   "outputs": [],
   "source": []
  },
  {
   "cell_type": "code",
   "execution_count": null,
   "id": "d0227cce-fd9b-4c69-a2f3-cf9715c0119c",
   "metadata": {},
   "outputs": [],
   "source": []
  },
  {
   "cell_type": "code",
   "execution_count": null,
   "id": "ba944af9-6da2-4adb-9673-ba2452e64fce",
   "metadata": {},
   "outputs": [],
   "source": []
  },
  {
   "cell_type": "code",
   "execution_count": null,
   "id": "cb488578-d2d4-4751-aac6-17383116c868",
   "metadata": {},
   "outputs": [],
   "source": []
  },
  {
   "cell_type": "code",
   "execution_count": null,
   "id": "13741fe6-6e67-4097-857b-9b556e3fd27f",
   "metadata": {},
   "outputs": [],
   "source": []
  },
  {
   "cell_type": "code",
   "execution_count": null,
   "id": "7a1ab7f4-c794-4410-a7b4-1f2b8f50fdfd",
   "metadata": {},
   "outputs": [],
   "source": []
  },
  {
   "cell_type": "code",
   "execution_count": null,
   "id": "7635bde5-6df1-4e06-805b-d95775ee7c49",
   "metadata": {},
   "outputs": [],
   "source": []
  },
  {
   "cell_type": "code",
   "execution_count": null,
   "id": "7dd98188-f1a9-4194-8ecc-d0fc43a958b0",
   "metadata": {},
   "outputs": [],
   "source": []
  }
 ],
 "metadata": {
  "kernelspec": {
   "display_name": "PYSPARK_KERNEL",
   "language": "python",
   "name": "pyspark_kernel"
  },
  "language_info": {
   "codemirror_mode": {
    "name": "ipython",
    "version": 3
   },
   "file_extension": ".py",
   "mimetype": "text/x-python",
   "name": "python",
   "nbconvert_exporter": "python",
   "pygments_lexer": "ipython3",
   "version": "3.12.5"
  }
 },
 "nbformat": 4,
 "nbformat_minor": 5
}
