{
 "cells": [
  {
   "cell_type": "markdown",
   "id": "6e29af1e-9145-4a49-ab12-69eeb4f25bcb",
   "metadata": {},
   "source": [
    "Spark 1.0\n",
    "1. we needed to create context for each use case\n",
    "2. now everything is included in sparksession\n",
    "    \n",
    "\n"
   ]
  },
  {
   "cell_type": "code",
   "execution_count": 1,
   "id": "b3a8b031-b78c-42a5-9abd-a92370d9ae91",
   "metadata": {},
   "outputs": [],
   "source": [
    "from pyspark.sql import SparkSession\n",
    "from pyspark.sql.functions import *"
   ]
  },
  {
   "cell_type": "code",
   "execution_count": 5,
   "id": "a5aa9df6-4256-4331-ad70-b69de51fa566",
   "metadata": {},
   "outputs": [],
   "source": [
    "spark = SparkSession.builder.master(\"local[5]\").appName(\"testing\").getOrCreate()\n"
   ]
  },
  {
   "cell_type": "code",
   "execution_count": 6,
   "id": "92b184db-4d89-450f-8ea8-959373cfc9f3",
   "metadata": {},
   "outputs": [
    {
     "name": "stdout",
     "output_type": "stream",
     "text": [
      "<pyspark.sql.session.SparkSession object at 0x0000020C33B02D20>\n"
     ]
    }
   ],
   "source": [
    "print(spark)"
   ]
  },
  {
   "cell_type": "code",
   "execution_count": 9,
   "id": "0ef490d8-e757-410c-8e06-4c21492acb2d",
   "metadata": {},
   "outputs": [],
   "source": [
    "# sc = spark.SparkContext"
   ]
  },
  {
   "cell_type": "code",
   "execution_count": 8,
   "id": "202b6577-1dbf-4f1a-b354-aa45f9e04088",
   "metadata": {},
   "outputs": [],
   "source": [
    "employee_df = spark.read.csv(\"../data/credit.csv\")"
   ]
  },
  {
   "cell_type": "markdown",
   "id": "0723c8ff-83cf-49f5-b1e4-90a1f9dc73bb",
   "metadata": {},
   "source": [
    "## what is application, job, stage, and task ?\n",
    "> Application: \n",
    "1. we submit 1 application for our use case, we can submit multiplee application as well\n",
    "2. 1 spark submit creates 1 spark application \n",
    "\n",
    "> Job:\n",
    "1. application has lot of actions and transformations\n",
    "2. 1 job is created for 1 action in a application\n",
    "\n",
    "> Stage:\n",
    "1. the jobs are divided into smaller parts called stage\n",
    "2. it consists of multiple tasks\n",
    "\n",
    "> Task:\n",
    "1. execution of logical plan\n",
    "\n",
    "application has multiple jobs  > multiple jobs have multiple stages > multiple stage has multiple tasks \n"
   ]
  },
  {
   "cell_type": "code",
   "execution_count": null,
   "id": "b8d3e20c-ff87-4e0d-9670-057dff25f562",
   "metadata": {},
   "outputs": [],
   "source": []
  },
  {
   "cell_type": "code",
   "execution_count": null,
   "id": "dba39435-d25d-413d-95b1-d40cae519f86",
   "metadata": {},
   "outputs": [],
   "source": []
  },
  {
   "cell_type": "code",
   "execution_count": null,
   "id": "6fe3b24e-3f0e-499d-a44c-0802e3cf58de",
   "metadata": {},
   "outputs": [],
   "source": []
  },
  {
   "cell_type": "code",
   "execution_count": null,
   "id": "d06b5842-8fba-4228-9bff-332c6471cefa",
   "metadata": {},
   "outputs": [],
   "source": []
  },
  {
   "cell_type": "code",
   "execution_count": null,
   "id": "262e5231-0af2-4229-929c-bc3c3c32d866",
   "metadata": {},
   "outputs": [],
   "source": []
  },
  {
   "cell_type": "code",
   "execution_count": null,
   "id": "41d02d3a-d4e7-4b5d-b3e9-64dfc7ad4e82",
   "metadata": {},
   "outputs": [],
   "source": []
  },
  {
   "cell_type": "code",
   "execution_count": null,
   "id": "5a73cb48-8823-443c-a803-c2f216e70d42",
   "metadata": {},
   "outputs": [],
   "source": []
  }
 ],
 "metadata": {
  "kernelspec": {
   "display_name": "PYSPARK_KERNEL",
   "language": "python",
   "name": "pyspark_kernel"
  },
  "language_info": {
   "codemirror_mode": {
    "name": "ipython",
    "version": 3
   },
   "file_extension": ".py",
   "mimetype": "text/x-python",
   "name": "python",
   "nbconvert_exporter": "python",
   "pygments_lexer": "ipython3",
   "version": "3.12.5"
  }
 },
 "nbformat": 4,
 "nbformat_minor": 5
}
