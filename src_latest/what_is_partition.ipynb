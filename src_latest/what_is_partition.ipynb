{
 "cells": [
  {
   "cell_type": "markdown",
   "id": "7850375d-1dde-447d-a5cc-58120d578855",
   "metadata": {},
   "source": [
    "partition:\n",
    "data is split into multiple parts for parallel execution\n",
    "\n",
    "select employees with salary  > 10000\n"
   ]
  },
  {
   "cell_type": "markdown",
   "id": "49a2bd9e-6232-4ff7-b13e-e540a14ba0b7",
   "metadata": {},
   "source": []
  },
  {
   "cell_type": "markdown",
   "id": "8135709a-e24a-4418-9619-dafd82ec96c4",
   "metadata": {},
   "source": []
  },
  {
   "cell_type": "markdown",
   "id": "eab02d3a-58aa-4ec8-8b82-cb34442700cf",
   "metadata": {},
   "source": []
  },
  {
   "cell_type": "markdown",
   "id": "b395dbb3-6325-4ea5-9d37-3f90ecbae298",
   "metadata": {},
   "source": []
  },
  {
   "cell_type": "markdown",
   "id": "c24d5564-040d-4a21-ad43-d46f4f28f254",
   "metadata": {},
   "source": []
  },
  {
   "cell_type": "markdown",
   "id": "2f618802-e3c4-4a16-b5be-a0ce38480f14",
   "metadata": {},
   "source": []
  },
  {
   "cell_type": "markdown",
   "id": "0c404d56-fba8-4a28-9d68-d85756d1ba31",
   "metadata": {},
   "source": []
  },
  {
   "cell_type": "markdown",
   "id": "5cea53ab-31af-415a-81c1-2fca8459ccbb",
   "metadata": {},
   "source": []
  },
  {
   "cell_type": "markdown",
   "id": "6632fff3-e853-40b6-b704-ffeccad1eef3",
   "metadata": {},
   "source": []
  },
  {
   "cell_type": "markdown",
   "id": "2d2a6048-213a-4372-99a4-8b1fa5d3c76c",
   "metadata": {},
   "source": []
  },
  {
   "cell_type": "markdown",
   "id": "9ce6eb65-aae4-46cb-9a17-3a228afb7d0d",
   "metadata": {},
   "source": []
  },
  {
   "cell_type": "markdown",
   "id": "b05a26d1-58ef-409f-bff7-ac47fa96c980",
   "metadata": {},
   "source": []
  },
  {
   "cell_type": "markdown",
   "id": "1aee21f9-4dad-4f11-947a-68212280db7e",
   "metadata": {},
   "source": []
  },
  {
   "cell_type": "markdown",
   "id": "372916b5-40fc-4399-868a-9d570d6f8b2c",
   "metadata": {},
   "source": []
  },
  {
   "cell_type": "markdown",
   "id": "f5b1f0f0-91e9-48d7-9053-17c4d59d12fa",
   "metadata": {},
   "source": []
  }
 ],
 "metadata": {
  "kernelspec": {
   "display_name": "PYSPARK_KERNEL",
   "language": "python",
   "name": "pyspark_kernel"
  },
  "language_info": {
   "codemirror_mode": {
    "name": "ipython",
    "version": 3
   },
   "file_extension": ".py",
   "mimetype": "text/x-python",
   "name": "python",
   "nbconvert_exporter": "python",
   "pygments_lexer": "ipython3",
   "version": "3.12.5"
  }
 },
 "nbformat": 4,
 "nbformat_minor": 5
}
