{
 "cells": [
  {
   "cell_type": "code",
   "execution_count": 3,
   "id": "db418e0b-de3b-4d63-be19-1b249fe998ec",
   "metadata": {},
   "outputs": [],
   "source": [
    "from pyspark import SparkContext,SparkConf"
   ]
  },
  {
   "cell_type": "code",
   "execution_count": null,
   "id": "5943e309-222a-4131-b0cb-07e0773d333f",
   "metadata": {},
   "outputs": [],
   "source": [
    "conf  = SparkConf().setAppName('sharedvars')\n",
    "sc = SparkContext(conf=conf)"
   ]
  },
  {
   "cell_type": "code",
   "execution_count": 9,
   "id": "b201c595-a45d-48a0-ae0c-8bb841f04cb7",
   "metadata": {},
   "outputs": [
    {
     "data": {
      "text/html": [
       "\n",
       "        <div>\n",
       "            <p><b>SparkContext</b></p>\n",
       "\n",
       "            <p><a href=\"http://zephyrus:4046\">Spark UI</a></p>\n",
       "\n",
       "            <dl>\n",
       "              <dt>Version</dt>\n",
       "                <dd><code>v3.3.1</code></dd>\n",
       "              <dt>Master</dt>\n",
       "                <dd><code>local[*]</code></dd>\n",
       "              <dt>AppName</dt>\n",
       "                <dd><code>sharedvars</code></dd>\n",
       "            </dl>\n",
       "        </div>\n",
       "        "
      ],
      "text/plain": [
       "<SparkContext master=local[*] appName=sharedvars>"
      ]
     },
     "execution_count": 9,
     "metadata": {},
     "output_type": "execute_result"
    }
   ],
   "source": [
    "sc"
   ]
  },
  {
   "cell_type": "code",
   "execution_count": 11,
   "id": "d8970a91-2233-4a96-84c8-023a7f65100b",
   "metadata": {},
   "outputs": [
    {
     "data": {
      "text/plain": [
       "[1, 2, 3]"
      ]
     },
     "execution_count": 11,
     "metadata": {},
     "output_type": "execute_result"
    }
   ],
   "source": [
    "# broadcast\n",
    "# this is a read only variable cahched on each machine rather than making copy of it with tasks\n",
    "b = sc.broadcast([1,2,3])\n",
    "b.value"
   ]
  },
  {
   "cell_type": "code",
   "execution_count": 13,
   "id": "8451b82d-3504-43d1-b936-4ced8e32539b",
   "metadata": {},
   "outputs": [
    {
     "data": {
      "text/plain": [
       "[1, 2, 3]"
      ]
     },
     "execution_count": 13,
     "metadata": {},
     "output_type": "execute_result"
    }
   ],
   "source": [
    "b.unpersist()\n",
    "b.value"
   ]
  },
  {
   "cell_type": "markdown",
   "id": "ea61613b-79c2-4654-b9bc-75be923cf073",
   "metadata": {},
   "source": [
    "## ***Accumulator***"
   ]
  },
  {
   "cell_type": "code",
   "execution_count": 15,
   "id": "cfd68f8e-5203-4003-9745-dba274f8ff86",
   "metadata": {},
   "outputs": [
    {
     "data": {
      "text/plain": [
       "Accumulator<id=1, value=0>"
      ]
     },
     "execution_count": 15,
     "metadata": {},
     "output_type": "execute_result"
    }
   ],
   "source": [
    "accum = sc.accumulator(0)\n",
    "accum"
   ]
  },
  {
   "cell_type": "code",
   "execution_count": null,
   "id": "1f80abf4-9c14-4e92-97f0-958de4e9f1c7",
   "metadata": {},
   "outputs": [],
   "source": [
    "sc.parallelize([1,2,3,4]).foreach(lambda x : accum.add(x))\n",
    "accum.value"
   ]
  },
  {
   "cell_type": "code",
   "execution_count": null,
   "id": "a0027036-67de-4557-b574-c1235de215a0",
   "metadata": {},
   "outputs": [],
   "source": []
  }
 ],
 "metadata": {
  "kernelspec": {
   "display_name": "Python 3 (ipykernel)",
   "language": "python",
   "name": "python3"
  },
  "language_info": {
   "codemirror_mode": {
    "name": "ipython",
    "version": 3
   },
   "file_extension": ".py",
   "mimetype": "text/x-python",
   "name": "python",
   "nbconvert_exporter": "python",
   "pygments_lexer": "ipython3",
   "version": "3.9.12"
  }
 },
 "nbformat": 4,
 "nbformat_minor": 5
}
