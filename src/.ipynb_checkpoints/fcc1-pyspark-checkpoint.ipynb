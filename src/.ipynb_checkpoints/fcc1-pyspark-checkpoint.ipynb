{
 "cells": [
  {
   "cell_type": "code",
   "execution_count": 52,
   "id": "cc71ce77-2026-4db7-ab7c-9a5ea7f105d2",
   "metadata": {},
   "outputs": [],
   "source": [
    "import pyspark\n",
    "import pandas as pd"
   ]
  },
  {
   "cell_type": "code",
   "execution_count": 53,
   "id": "5ac9dce0-6b47-47c6-b1d0-07ddcdacaa1e",
   "metadata": {},
   "outputs": [
    {
     "data": {
      "text/html": [
       "<div>\n",
       "<style scoped>\n",
       "    .dataframe tbody tr th:only-of-type {\n",
       "        vertical-align: middle;\n",
       "    }\n",
       "\n",
       "    .dataframe tbody tr th {\n",
       "        vertical-align: top;\n",
       "    }\n",
       "\n",
       "    .dataframe thead th {\n",
       "        text-align: right;\n",
       "    }\n",
       "</style>\n",
       "<table border=\"1\" class=\"dataframe\">\n",
       "  <thead>\n",
       "    <tr style=\"text-align: right;\">\n",
       "      <th></th>\n",
       "      <th>name</th>\n",
       "      <th>age</th>\n",
       "      <th>experience</th>\n",
       "      <th>skill</th>\n",
       "    </tr>\n",
       "  </thead>\n",
       "  <tbody>\n",
       "    <tr>\n",
       "      <th>0</th>\n",
       "      <td>nainesh</td>\n",
       "      <td>25</td>\n",
       "      <td>3</td>\n",
       "      <td>data science</td>\n",
       "    </tr>\n",
       "    <tr>\n",
       "      <th>1</th>\n",
       "      <td>nitin</td>\n",
       "      <td>25</td>\n",
       "      <td>3</td>\n",
       "      <td>web development</td>\n",
       "    </tr>\n",
       "    <tr>\n",
       "      <th>2</th>\n",
       "      <td>aditya</td>\n",
       "      <td>26</td>\n",
       "      <td>4</td>\n",
       "      <td>architecture</td>\n",
       "    </tr>\n",
       "    <tr>\n",
       "      <th>3</th>\n",
       "      <td>snehal</td>\n",
       "      <td>24</td>\n",
       "      <td>1</td>\n",
       "      <td>architecture</td>\n",
       "    </tr>\n",
       "  </tbody>\n",
       "</table>\n",
       "</div>"
      ],
      "text/plain": [
       "      name  age  experience            skill\n",
       "0  nainesh   25           3     data science\n",
       "1    nitin   25           3  web development\n",
       "2   aditya   26           4     architecture\n",
       "3   snehal   24           1     architecture"
      ]
     },
     "execution_count": 53,
     "metadata": {},
     "output_type": "execute_result"
    }
   ],
   "source": [
    "pd.read_csv('../data/test.csv')"
   ]
  },
  {
   "cell_type": "code",
   "execution_count": 54,
   "id": "eb0189dc-7d0d-4b42-b497-51158c5ebca6",
   "metadata": {},
   "outputs": [],
   "source": [
    "from pyspark.sql import SparkSession"
   ]
  },
  {
   "cell_type": "code",
   "execution_count": 55,
   "id": "4a626ee0-b69f-4c58-a196-62a7dc62b73d",
   "metadata": {},
   "outputs": [],
   "source": [
    "spark = SparkSession.builder.appName('fcctest').getOrCreate()"
   ]
  },
  {
   "cell_type": "code",
   "execution_count": 56,
   "id": "e674244c-ef90-4225-b4a8-850e279ac61c",
   "metadata": {},
   "outputs": [
    {
     "data": {
      "text/html": [
       "\n",
       "            <div>\n",
       "                <p><b>SparkSession - in-memory</b></p>\n",
       "                \n",
       "        <div>\n",
       "            <p><b>SparkContext</b></p>\n",
       "\n",
       "            <p><a href=\"http://zephyrus:4040\">Spark UI</a></p>\n",
       "\n",
       "            <dl>\n",
       "              <dt>Version</dt>\n",
       "                <dd><code>v3.3.1</code></dd>\n",
       "              <dt>Master</dt>\n",
       "                <dd><code>local[*]</code></dd>\n",
       "              <dt>AppName</dt>\n",
       "                <dd><code>fcctest</code></dd>\n",
       "            </dl>\n",
       "        </div>\n",
       "        \n",
       "            </div>\n",
       "        "
      ],
      "text/plain": [
       "<pyspark.sql.session.SparkSession at 0x1a3d4b7ac40>"
      ]
     },
     "execution_count": 56,
     "metadata": {},
     "output_type": "execute_result"
    }
   ],
   "source": [
    "spark"
   ]
  },
  {
   "cell_type": "code",
   "execution_count": 57,
   "id": "87d5c9db-17ef-41a5-8234-32514baa1827",
   "metadata": {},
   "outputs": [
    {
     "name": "stdout",
     "output_type": "stream",
     "text": [
      "+-------+---+----------+---------------+\n",
      "|    _c0|_c1|       _c2|            _c3|\n",
      "+-------+---+----------+---------------+\n",
      "|   name|age|experience|          skill|\n",
      "|nainesh| 25|         3|   data science|\n",
      "|  nitin| 25|         3|web development|\n",
      "| aditya| 26|         4|   architecture|\n",
      "| snehal| 24|         1|   architecture|\n",
      "+-------+---+----------+---------------+\n",
      "\n"
     ]
    }
   ],
   "source": [
    "df_ps1 = spark.read.csv('../data/test.csv')\n",
    "df_ps1.show()\n",
    "# to fix this issue of c0 and c1 getting as headers >>"
   ]
  },
  {
   "cell_type": "code",
   "execution_count": 58,
   "id": "9fdaa97a-74bb-47d7-8d7c-93e8446d8ae2",
   "metadata": {},
   "outputs": [
    {
     "name": "stdout",
     "output_type": "stream",
     "text": [
      "+-------+---+----------+---------------+\n",
      "|   name|age|experience|          skill|\n",
      "+-------+---+----------+---------------+\n",
      "|nainesh| 25|         3|   data science|\n",
      "|  nitin| 25|         3|web development|\n",
      "| aditya| 26|         4|   architecture|\n",
      "| snehal| 24|         1|   architecture|\n",
      "+-------+---+----------+---------------+\n",
      "\n"
     ]
    }
   ],
   "source": [
    "df_ps2 = spark.read.option('header','True').csv('../data/test.csv')\n",
    "df_ps2.show()"
   ]
  },
  {
   "cell_type": "code",
   "execution_count": 59,
   "id": "faf0fbd1-1461-4319-93aa-05e9d8c74ec5",
   "metadata": {},
   "outputs": [
    {
     "data": {
      "text/plain": [
       "pyspark.sql.dataframe.DataFrame"
      ]
     },
     "execution_count": 59,
     "metadata": {},
     "output_type": "execute_result"
    }
   ],
   "source": [
    "type(df_ps2)"
   ]
  },
  {
   "cell_type": "code",
   "execution_count": 60,
   "id": "380e5407-8df7-462e-8e75-d26f64260dc0",
   "metadata": {},
   "outputs": [
    {
     "data": {
      "text/plain": [
       "[Row(name='nainesh', age='25', experience='3', skill='data science'),\n",
       " Row(name='nitin', age='25', experience='3', skill='web development'),\n",
       " Row(name='aditya', age='26', experience='4', skill='architecture'),\n",
       " Row(name='snehal', age='24', experience='1', skill='architecture')]"
      ]
     },
     "execution_count": 60,
     "metadata": {},
     "output_type": "execute_result"
    }
   ],
   "source": [
    "df_ps2.head(4)"
   ]
  },
  {
   "cell_type": "code",
   "execution_count": 61,
   "id": "200c1494-3ea0-46c6-ad7f-b0e5683616e5",
   "metadata": {},
   "outputs": [
    {
     "data": {
      "text/plain": [
       "<bound method DataFrame.printSchema of DataFrame[name: string, age: string, experience: string, skill: string]>"
      ]
     },
     "execution_count": 61,
     "metadata": {},
     "output_type": "execute_result"
    }
   ],
   "source": [
    "df_ps2.printSchema"
   ]
  },
  {
   "cell_type": "code",
   "execution_count": null,
   "id": "b4a467fd-0bca-4de0-a8bb-d1b603538b01",
   "metadata": {},
   "outputs": [],
   "source": []
  }
 ],
 "metadata": {
  "kernelspec": {
   "display_name": "Python 3 (ipykernel)",
   "language": "python",
   "name": "python3"
  },
  "language_info": {
   "codemirror_mode": {
    "name": "ipython",
    "version": 3
   },
   "file_extension": ".py",
   "mimetype": "text/x-python",
   "name": "python",
   "nbconvert_exporter": "python",
   "pygments_lexer": "ipython3",
   "version": "3.9.12"
  }
 },
 "nbformat": 4,
 "nbformat_minor": 5
}
