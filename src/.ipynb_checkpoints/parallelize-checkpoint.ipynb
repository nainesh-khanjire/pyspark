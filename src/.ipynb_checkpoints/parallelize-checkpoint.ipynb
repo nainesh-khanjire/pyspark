{
 "cells": [
  {
   "cell_type": "code",
   "execution_count": 2,
   "id": "d748a218-da3e-4f68-a2c3-0e445d7264a1",
   "metadata": {},
   "outputs": [],
   "source": [
    "from pyspark import SparkContext,SparkConf"
   ]
  },
  {
   "cell_type": "code",
   "execution_count": null,
   "id": "d44cca51-505b-4a37-814e-918ad478c9e5",
   "metadata": {},
   "outputs": [],
   "source": [
    "conf = SparkConf().setAppName('createRDD')\n",
    "sc = SparkContext(conf=conf)"
   ]
  },
  {
   "cell_type": "code",
   "execution_count": 6,
   "id": "626532af-b6ef-452b-b137-705dc2c5f3e5",
   "metadata": {},
   "outputs": [
    {
     "data": {
      "text/html": [
       "\n",
       "        <div>\n",
       "            <p><b>SparkContext</b></p>\n",
       "\n",
       "            <p><a href=\"http://zephyrus:4043\">Spark UI</a></p>\n",
       "\n",
       "            <dl>\n",
       "              <dt>Version</dt>\n",
       "                <dd><code>v3.3.1</code></dd>\n",
       "              <dt>Master</dt>\n",
       "                <dd><code>local[*]</code></dd>\n",
       "              <dt>AppName</dt>\n",
       "                <dd><code>createRDD</code></dd>\n",
       "            </dl>\n",
       "        </div>\n",
       "        "
      ],
      "text/plain": [
       "<SparkContext master=local[*] appName=createRDD>"
      ]
     },
     "execution_count": 6,
     "metadata": {},
     "output_type": "execute_result"
    }
   ],
   "source": [
    "sc"
   ]
  },
  {
   "cell_type": "code",
   "execution_count": 8,
   "id": "9193ff9a-9360-4e54-abcb-7d18a0f99831",
   "metadata": {},
   "outputs": [],
   "source": [
    "lnum = [1,2,3,4,5,6]"
   ]
  },
  {
   "cell_type": "code",
   "execution_count": 10,
   "id": "fd3cbb0a-9375-4f0f-a1d8-97b556a3d6d7",
   "metadata": {},
   "outputs": [],
   "source": [
    "lnumRDD = sc.parallelize(lnum,4)"
   ]
  },
  {
   "cell_type": "code",
   "execution_count": 15,
   "id": "66910d79-0d51-4847-9c47-5267b619610b",
   "metadata": {},
   "outputs": [
    {
     "data": {
      "text/plain": [
       "<bound method SparkContext.parallelize of <SparkContext master=local[*] appName=createRDD>>"
      ]
     },
     "execution_count": 15,
     "metadata": {},
     "output_type": "execute_result"
    }
   ],
   "source": [
    "sc.parallelize"
   ]
  },
  {
   "cell_type": "code",
   "execution_count": null,
   "id": "0a985e28-9571-4c33-9568-b20e901e453a",
   "metadata": {},
   "outputs": [],
   "source": [
    "lnumRDD.glom().collect()\n"
   ]
  },
  {
   "cell_type": "code",
   "execution_count": null,
   "id": "760377de-10f2-4060-b65e-b9ba81f56871",
   "metadata": {},
   "outputs": [],
   "source": []
  }
 ],
 "metadata": {
  "kernelspec": {
   "display_name": "Python 3 (ipykernel)",
   "language": "python",
   "name": "python3"
  },
  "language_info": {
   "codemirror_mode": {
    "name": "ipython",
    "version": 3
   },
   "file_extension": ".py",
   "mimetype": "text/x-python",
   "name": "python",
   "nbconvert_exporter": "python",
   "pygments_lexer": "ipython3",
   "version": "3.9.12"
  }
 },
 "nbformat": 4,
 "nbformat_minor": 5
}
