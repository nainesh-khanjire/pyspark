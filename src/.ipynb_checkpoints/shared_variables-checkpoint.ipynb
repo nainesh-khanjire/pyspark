{
 "cells": [
  {
   "cell_type": "code",
   "execution_count": null,
   "id": "db418e0b-de3b-4d63-be19-1b249fe998ec",
   "metadata": {},
   "outputs": [],
   "source": []
  }
 ],
 "metadata": {
  "kernelspec": {
   "display_name": "Python 3 (ipykernel)",
   "language": "python",
   "name": "python3"
  },
  "language_info": {
   "codemirror_mode": {
    "name": "ipython",
    "version": 3
   },
   "file_extension": ".py",
   "mimetype": "text/x-python",
   "name": "python",
   "nbconvert_exporter": "python",
   "pygments_lexer": "ipython3",
   "version": "3.9.12"
  }
 },
 "nbformat": 4,
 "nbformat_minor": 5
}
