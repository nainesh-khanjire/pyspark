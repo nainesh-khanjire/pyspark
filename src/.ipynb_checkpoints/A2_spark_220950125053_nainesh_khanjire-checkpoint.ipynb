{
 "cells": [
  {
   "cell_type": "markdown",
   "id": "7590c3aa-6402-468c-beb9-4f0147f61560",
   "metadata": {},
   "source": [
    "## ***1. Experimental sensor data used for binary classification (room occupancy) from Temperature, Humidity, Light and CO2, Ground-truth occupancy was obtained from time stamped pictures that were taken every minute. Find out the following from the given data.***\n",
    "\n",
    "*i. Find out the average humidity of the room.\n",
    "ii. Filter all the timestamps where the temperature is greater than 20 degrees. \n",
    "iii. What is the maximum and minimum temperature of the room with 1 occupant?*"
   ]
  },
  {
   "cell_type": "code",
   "execution_count": null,
   "id": "8d22d514-905e-460a-ac2e-c48d5d72c416",
   "metadata": {},
   "outputs": [],
   "source": [
    "s"
   ]
  }
 ],
 "metadata": {
  "kernelspec": {
   "display_name": "Python 3 (ipykernel)",
   "language": "python",
   "name": "python3"
  },
  "language_info": {
   "codemirror_mode": {
    "name": "ipython",
    "version": 3
   },
   "file_extension": ".py",
   "mimetype": "text/x-python",
   "name": "python",
   "nbconvert_exporter": "python",
   "pygments_lexer": "ipython3",
   "version": "3.9.12"
  }
 },
 "nbformat": 4,
 "nbformat_minor": 5
}
