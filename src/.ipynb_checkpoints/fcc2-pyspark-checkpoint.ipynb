{
 "cells": [
  {
   "cell_type": "code",
   "execution_count": 1,
   "id": "e5d43d8e-c984-4db7-834b-7ba2582e388e",
   "metadata": {},
   "outputs": [],
   "source": [
    "    import pandas as pd\n",
    "import pyspark\n"
   ]
  },
  {
   "cell_type": "code",
   "execution_count": 2,
   "id": "2859890a-7b36-4809-8bfd-031a2aa3e7ef",
   "metadata": {},
   "outputs": [
    {
     "data": {
      "text/html": [
       "<div>\n",
       "<style scoped>\n",
       "    .dataframe tbody tr th:only-of-type {\n",
       "        vertical-align: middle;\n",
       "    }\n",
       "\n",
       "    .dataframe tbody tr th {\n",
       "        vertical-align: top;\n",
       "    }\n",
       "\n",
       "    .dataframe thead th {\n",
       "        text-align: right;\n",
       "    }\n",
       "</style>\n",
       "<table border=\"1\" class=\"dataframe\">\n",
       "  <thead>\n",
       "    <tr style=\"text-align: right;\">\n",
       "      <th></th>\n",
       "      <th>name</th>\n",
       "      <th>age</th>\n",
       "      <th>experience</th>\n",
       "      <th>skill</th>\n",
       "    </tr>\n",
       "  </thead>\n",
       "  <tbody>\n",
       "    <tr>\n",
       "      <th>0</th>\n",
       "      <td>nainesh</td>\n",
       "      <td>25</td>\n",
       "      <td>3</td>\n",
       "      <td>data science</td>\n",
       "    </tr>\n",
       "    <tr>\n",
       "      <th>1</th>\n",
       "      <td>nitin</td>\n",
       "      <td>25</td>\n",
       "      <td>3</td>\n",
       "      <td>web development</td>\n",
       "    </tr>\n",
       "    <tr>\n",
       "      <th>2</th>\n",
       "      <td>aditya</td>\n",
       "      <td>26</td>\n",
       "      <td>4</td>\n",
       "      <td>architecture</td>\n",
       "    </tr>\n",
       "    <tr>\n",
       "      <th>3</th>\n",
       "      <td>snehal</td>\n",
       "      <td>24</td>\n",
       "      <td>1</td>\n",
       "      <td>architecture</td>\n",
       "    </tr>\n",
       "  </tbody>\n",
       "</table>\n",
       "</div>"
      ],
      "text/plain": [
       "      name  age  experience            skill\n",
       "0  nainesh   25           3     data science\n",
       "1    nitin   25           3  web development\n",
       "2   aditya   26           4     architecture\n",
       "3   snehal   24           1     architecture"
      ]
     },
     "execution_count": 2,
     "metadata": {},
     "output_type": "execute_result"
    }
   ],
   "source": [
    "pd.read_csv('../data/test.csv')"
   ]
  },
  {
   "cell_type": "code",
   "execution_count": 3,
   "id": "f5c2bac5-7c23-48ba-b103-b0d49b3959cd",
   "metadata": {},
   "outputs": [],
   "source": [
    "from pyspark.sql import SparkSession"
   ]
  },
  {
   "cell_type": "code",
   "execution_count": 4,
   "id": "9f4a8005-0df8-429f-8a4b-a54380265fca",
   "metadata": {},
   "outputs": [],
   "source": [
    "#creating the session\n",
    "spark = SparkSession.builder.appName('dataframe').getOrCreate()"
   ]
  },
  {
   "cell_type": "code",
   "execution_count": 5,
   "id": "2d97f8f8-7cb1-41c9-bc50-e0203d3ab261",
   "metadata": {},
   "outputs": [
    {
     "data": {
      "text/html": [
       "\n",
       "            <div>\n",
       "                <p><b>SparkSession - in-memory</b></p>\n",
       "                \n",
       "        <div>\n",
       "            <p><b>SparkContext</b></p>\n",
       "\n",
       "            <p><a href=\"http://zephyrus:4040\">Spark UI</a></p>\n",
       "\n",
       "            <dl>\n",
       "              <dt>Version</dt>\n",
       "                <dd><code>v3.3.1</code></dd>\n",
       "              <dt>Master</dt>\n",
       "                <dd><code>local[*]</code></dd>\n",
       "              <dt>AppName</dt>\n",
       "                <dd><code>dataframe</code></dd>\n",
       "            </dl>\n",
       "        </div>\n",
       "        \n",
       "            </div>\n",
       "        "
      ],
      "text/plain": [
       "<pyspark.sql.session.SparkSession at 0x25078cf0ca0>"
      ]
     },
     "execution_count": 5,
     "metadata": {},
     "output_type": "execute_result"
    }
   ],
   "source": [
    "spark"
   ]
  },
  {
   "cell_type": "code",
   "execution_count": 6,
   "id": "fa895051-72e5-41a8-8556-22c681944bc4",
   "metadata": {},
   "outputs": [
    {
     "name": "stdout",
     "output_type": "stream",
     "text": [
      "+-------+---+----------+---------------+\n",
      "|   name|age|experience|          skill|\n",
      "+-------+---+----------+---------------+\n",
      "|nainesh| 25|         3|   data science|\n",
      "|  nitin| 25|         3|web development|\n",
      "| aditya| 26|         4|   architecture|\n",
      "| snehal| 24|         1|   architecture|\n",
      "+-------+---+----------+---------------+\n",
      "\n"
     ]
    }
   ],
   "source": [
    "#read the dataset\n",
    "df_ps2 = spark.read.option('header','true').csv('../data/test.csv')#,inferSchema=True)\n",
    "df_ps2.show()"
   ]
  },
  {
   "cell_type": "code",
   "execution_count": 7,
   "id": "21a3698f-e9c9-4a85-bea4-6613998c7f60",
   "metadata": {},
   "outputs": [
    {
     "name": "stdout",
     "output_type": "stream",
     "text": [
      "root\n",
      " |-- name: string (nullable = true)\n",
      " |-- age: string (nullable = true)\n",
      " |-- experience: string (nullable = true)\n",
      " |-- skill: string (nullable = true)\n",
      "\n"
     ]
    }
   ],
   "source": [
    "# check the schema\n",
    "df_ps2.printSchema() "
   ]
  },
  {
   "cell_type": "markdown",
   "id": "4024c65c-218b-4b68-ac2d-d62d9a6ce402",
   "metadata": {},
   "source": [
    "## By default this is taking string as dtype\n",
    "- to avoid this we have to add  csv(,inferschema=True) while reading option"
   ]
  },
  {
   "cell_type": "code",
   "execution_count": 8,
   "id": "ba464cd3-603f-440d-aa1a-8939063a9c80",
   "metadata": {},
   "outputs": [
    {
     "data": {
      "text/plain": [
       "pyspark.sql.dataframe.DataFrame"
      ]
     },
     "execution_count": 8,
     "metadata": {},
     "output_type": "execute_result"
    }
   ],
   "source": [
    "type(df_ps2)"
   ]
  },
  {
   "cell_type": "code",
   "execution_count": 9,
   "id": "c6d66d92-1b40-4cea-9dfe-d5619edcbe34",
   "metadata": {},
   "outputs": [
    {
     "name": "stdout",
     "output_type": "stream",
     "text": [
      "+-------+---+\n",
      "|   name|age|\n",
      "+-------+---+\n",
      "|nainesh| 25|\n",
      "|  nitin| 25|\n",
      "| aditya| 26|\n",
      "| snehal| 24|\n",
      "+-------+---+\n",
      "\n"
     ]
    }
   ],
   "source": [
    "df_ps2.select(['name','age']).show()"
   ]
  },
  {
   "cell_type": "code",
   "execution_count": 10,
   "id": "f6ad208d-0f9f-4a8e-8eae-84f3d50ea99d",
   "metadata": {},
   "outputs": [
    {
     "data": {
      "text/plain": [
       "Column<'name'>"
      ]
     },
     "execution_count": 10,
     "metadata": {},
     "output_type": "execute_result"
    }
   ],
   "source": [
    "df_ps2['name']"
   ]
  },
  {
   "cell_type": "code",
   "execution_count": 11,
   "id": "46c21603-919c-4923-a281-7d7f046a4e64",
   "metadata": {},
   "outputs": [
    {
     "data": {
      "text/plain": [
       "[('name', 'string'),\n",
       " ('age', 'string'),\n",
       " ('experience', 'string'),\n",
       " ('skill', 'string')]"
      ]
     },
     "execution_count": 11,
     "metadata": {},
     "output_type": "execute_result"
    }
   ],
   "source": [
    "df_ps2.dtypes"
   ]
  },
  {
   "cell_type": "code",
   "execution_count": 12,
   "id": "51b3f85b-8ebd-4056-9d4c-a1adea740a66",
   "metadata": {},
   "outputs": [
    {
     "name": "stdout",
     "output_type": "stream",
     "text": [
      "+-------+------+------------------+------------------+---------------+\n",
      "|summary|  name|               age|        experience|          skill|\n",
      "+-------+------+------------------+------------------+---------------+\n",
      "|  count|     4|                 4|                 4|              4|\n",
      "|   mean|  null|              25.0|              2.75|           null|\n",
      "| stddev|  null|0.8164965809277256|1.2583057392117918|           null|\n",
      "|    min|aditya|                24|                 1|   architecture|\n",
      "|    max|snehal|                26|                 4|web development|\n",
      "+-------+------+------------------+------------------+---------------+\n",
      "\n"
     ]
    }
   ],
   "source": [
    "df_ps2.describe().show()"
   ]
  },
  {
   "cell_type": "code",
   "execution_count": 13,
   "id": "670163cc-8f1b-4661-91c8-073db8999bbd",
   "metadata": {},
   "outputs": [
    {
     "name": "stdout",
     "output_type": "stream",
     "text": [
      "+-------+---+----------+---------------+------------------------+\n",
      "|   name|age|experience|          skill|experience after 2 years|\n",
      "+-------+---+----------+---------------+------------------------+\n",
      "|nainesh| 25|         3|   data science|                     5.0|\n",
      "|  nitin| 25|         3|web development|                     5.0|\n",
      "| aditya| 26|         4|   architecture|                     6.0|\n",
      "| snehal| 24|         1|   architecture|                     3.0|\n",
      "+-------+---+----------+---------------+------------------------+\n",
      "\n"
     ]
    }
   ],
   "source": [
    "# add column in the dataframe\n",
    "df_ps3 = df_ps2.withColumn('experience after 2 years',df_ps2['Experience']+2)\n",
    "df_ps3.show()"
   ]
  },
  {
   "cell_type": "code",
   "execution_count": 14,
   "id": "802a8305-038f-486e-93d1-d5f39f5269c0",
   "metadata": {},
   "outputs": [
    {
     "name": "stdout",
     "output_type": "stream",
     "text": [
      "+-------+---+----------+---------------+\n",
      "|   name|age|experience|          skill|\n",
      "+-------+---+----------+---------------+\n",
      "|nainesh| 25|         3|   data science|\n",
      "|  nitin| 25|         3|web development|\n",
      "| aditya| 26|         4|   architecture|\n",
      "| snehal| 24|         1|   architecture|\n",
      "+-------+---+----------+---------------+\n",
      "\n"
     ]
    }
   ],
   "source": [
    "df_ps2 = df_ps3.drop('experience after 2 years')\n",
    "df_ps2.show()"
   ]
  },
  {
   "cell_type": "code",
   "execution_count": 16,
   "id": "cac67ce4-50d4-4751-a0bc-454018236a9d",
   "metadata": {},
   "outputs": [
    {
     "data": {
      "text/plain": [
       "Column<'name'>"
      ]
     },
     "execution_count": 16,
     "metadata": {},
     "output_type": "execute_result"
    }
   ],
   "source": [
    " df_ps3['name']"
   ]
  },
  {
   "cell_type": "code",
   "execution_count": 17,
   "id": "7a7e8b23-434f-4631-aca0-d34e794d1385",
   "metadata": {},
   "outputs": [
    {
     "name": "stdout",
     "output_type": "stream",
     "text": [
      "+-------+------+------------------+------------------+---------------+------------------------+\n",
      "|summary|  name|               age|        experience|          skill|experience after 2 years|\n",
      "+-------+------+------------------+------------------+---------------+------------------------+\n",
      "|  count|     4|                 4|                 4|              4|                       4|\n",
      "|   mean|  null|              25.0|              2.75|           null|                    4.75|\n",
      "| stddev|  null|0.8164965809277256|1.2583057392117918|           null|      1.2583057392117916|\n",
      "|    min|aditya|                24|                 1|   architecture|                     3.0|\n",
      "|    max|snehal|                26|                 4|web development|                     6.0|\n",
      "+-------+------+------------------+------------------+---------------+------------------------+\n",
      "\n"
     ]
    }
   ],
   "source": [
    "df_ps3.describe().show()"
   ]
  },
  {
   "cell_type": "code",
   "execution_count": null,
   "id": "e6961923-288b-4977-8a2d-39ed38390023",
   "metadata": {},
   "outputs": [],
   "source": []
  }
 ],
 "metadata": {
  "kernelspec": {
   "display_name": "Python 3 (ipykernel)",
   "language": "python",
   "name": "python3"
  },
  "language_info": {
   "codemirror_mode": {
    "name": "ipython",
    "version": 3
   },
   "file_extension": ".py",
   "mimetype": "text/x-python",
   "name": "python",
   "nbconvert_exporter": "python",
   "pygments_lexer": "ipython3",
   "version": "3.9.12"
  }
 },
 "nbformat": 4,
 "nbformat_minor": 5
}
