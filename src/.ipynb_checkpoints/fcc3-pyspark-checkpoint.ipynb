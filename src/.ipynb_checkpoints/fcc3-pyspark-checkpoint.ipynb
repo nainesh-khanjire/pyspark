{
 "cells": [
  {
   "cell_type": "code",
   "execution_count": 2,
   "id": "fa610f21-3752-44db-81a0-9e2af6bf312c",
   "metadata": {},
   "outputs": [],
   "source": [
    "from pyspark.sql import SparkSession\n",
    "spark = SparkSession.builder.appName('practise').getOrCreate()"
   ]
  },
  {
   "cell_type": "code",
   "execution_count": 73,
   "id": "d2923fad-9051-4843-a391-8040d7872b2b",
   "metadata": {},
   "outputs": [
    {
     "name": "stdout",
     "output_type": "stream",
     "text": [
      "+---------+----+----------+------+\n",
      "|     name| age|experience|salary|\n",
      "+---------+----+----------+------+\n",
      "|   aditya|  26|         4| 50000|\n",
      "|  nainesh|  25|         3| 40000|\n",
      "|    nitin|  25|      null| 45000|\n",
      "|   snehal|  24|         1| 25000|\n",
      "|samruddhi|  25|         2|  null|\n",
      "|  prajwal|  27|         4| 35000|\n",
      "|   sanket|null|         1| 20000|\n",
      "|    viraj|  25|         2| 37000|\n",
      "|     null|  22|      null| 10000|\n",
      "|   ashish|null|         4|  null|\n",
      "+---------+----+----------+------+\n",
      "\n"
     ]
    }
   ],
   "source": [
    "# loading data file\n",
    "df1 = spark.read.csv('../data/friends.csv',header=True,inferSchema=True)\n",
    "df1.show()"
   ]
  },
  {
   "cell_type": "code",
   "execution_count": 74,
   "id": "e0309bd8-943e-4de2-b9fb-a051d3c87b11",
   "metadata": {},
   "outputs": [
    {
     "name": "stdout",
     "output_type": "stream",
     "text": [
      "+----+----------+------+\n",
      "| age|experience|salary|\n",
      "+----+----------+------+\n",
      "|  26|         4| 50000|\n",
      "|  25|         3| 40000|\n",
      "|  25|      null| 45000|\n",
      "|  24|         1| 25000|\n",
      "|  25|         2|  null|\n",
      "|  27|         4| 35000|\n",
      "|null|         1| 20000|\n",
      "|  25|         2| 37000|\n",
      "|  22|      null| 10000|\n",
      "|null|         4|  null|\n",
      "+----+----------+------+\n",
      "\n"
     ]
    }
   ],
   "source": [
    "df1.drop('name').show()"
   ]
  },
  {
   "cell_type": "code",
   "execution_count": 61,
   "id": "546c8915-94fa-49b2-8797-9388c658fecf",
   "metadata": {},
   "outputs": [
    {
     "name": "stdout",
     "output_type": "stream",
     "text": [
      "+---------+----+----------+------+\n",
      "|     name| age|experience|salary|\n",
      "+---------+----+----------+------+\n",
      "|   aditya|  26|         4| 50000|\n",
      "|  nainesh|  25|         3| 40000|\n",
      "|    nitin|  25|      null| 45000|\n",
      "|   snehal|  24|         1| 25000|\n",
      "|samruddhi|  25|         2|  null|\n",
      "|  prajwal|  27|         4| 35000|\n",
      "|   sanket|null|         1| 20000|\n",
      "|    viraj|  25|         2| 37000|\n",
      "|     null|  22|      null| 10000|\n",
      "|   ashish|null|         4|  null|\n",
      "+---------+----+----------+------+\n",
      "\n"
     ]
    }
   ],
   "source": [
    "df1.show()"
   ]
  },
  {
   "cell_type": "code",
   "execution_count": 62,
   "id": "c89dfa2b-ec5d-4f2b-b18c-390db66f174c",
   "metadata": {},
   "outputs": [
    {
     "name": "stdout",
     "output_type": "stream",
     "text": [
      "+-------+---+----------+------+\n",
      "|   name|age|experience|salary|\n",
      "+-------+---+----------+------+\n",
      "| aditya| 26|         4| 50000|\n",
      "|nainesh| 25|         3| 40000|\n",
      "| snehal| 24|         1| 25000|\n",
      "|prajwal| 27|         4| 35000|\n",
      "|  viraj| 25|         2| 37000|\n",
      "+-------+---+----------+------+\n",
      "\n"
     ]
    }
   ],
   "source": [
    "# all the rows with null values get deleted from ataframe\n",
    "df1.na.drop().show()"
   ]
  },
  {
   "cell_type": "code",
   "execution_count": 63,
   "id": "324713d5-afc2-419e-8004-0258b6f5a42c",
   "metadata": {},
   "outputs": [
    {
     "name": "stdout",
     "output_type": "stream",
     "text": [
      "+-------+---+----------+------+\n",
      "|   name|age|experience|salary|\n",
      "+-------+---+----------+------+\n",
      "| aditya| 26|         4| 50000|\n",
      "|nainesh| 25|         3| 40000|\n",
      "| snehal| 24|         1| 25000|\n",
      "|prajwal| 27|         4| 35000|\n",
      "|  viraj| 25|         2| 37000|\n",
      "+-------+---+----------+------+\n",
      "\n"
     ]
    }
   ],
   "source": [
    "# how = any, all\n",
    "# any dropsall the values, all drops only of all values in the row are null \n",
    "df1.na.drop(how='any').show()\n"
   ]
  },
  {
   "cell_type": "code",
   "execution_count": 64,
   "id": "523165f7-aa0f-4d1b-9bac-f00bdedd3c96",
   "metadata": {},
   "outputs": [
    {
     "name": "stdout",
     "output_type": "stream",
     "text": [
      "+---------+----+----------+------+\n",
      "|     name| age|experience|salary|\n",
      "+---------+----+----------+------+\n",
      "|   aditya|  26|         4| 50000|\n",
      "|  nainesh|  25|         3| 40000|\n",
      "|    nitin|  25|      null| 45000|\n",
      "|   snehal|  24|         1| 25000|\n",
      "|samruddhi|  25|         2|  null|\n",
      "|  prajwal|  27|         4| 35000|\n",
      "|   sanket|null|         1| 20000|\n",
      "|    viraj|  25|         2| 37000|\n",
      "|     null|  22|      null| 10000|\n",
      "|   ashish|null|         4|  null|\n",
      "+---------+----+----------+------+\n",
      "\n"
     ]
    }
   ],
   "source": [
    "df.na.drop(how='all').show()\n"
   ]
  },
  {
   "cell_type": "code",
   "execution_count": 65,
   "id": "bf70ee91-d5c1-428f-8bce-29cd2c47fe2b",
   "metadata": {},
   "outputs": [
    {
     "name": "stdout",
     "output_type": "stream",
     "text": [
      "+---------+----+----------+------+\n",
      "|     name| age|experience|salary|\n",
      "+---------+----+----------+------+\n",
      "|   aditya|  26|         4| 50000|\n",
      "|  nainesh|  25|         3| 40000|\n",
      "|    nitin|  25|      null| 45000|\n",
      "|   snehal|  24|         1| 25000|\n",
      "|samruddhi|  25|         2|  null|\n",
      "|  prajwal|  27|         4| 35000|\n",
      "|   sanket|null|         1| 20000|\n",
      "|    viraj|  25|         2| 37000|\n",
      "|     null|  22|      null| 10000|\n",
      "|   ashish|null|         4|  null|\n",
      "+---------+----+----------+------+\n",
      "\n"
     ]
    }
   ],
   "source": [
    "df1.na.drop(how='all', thresh=2).show()"
   ]
  },
  {
   "cell_type": "code",
   "execution_count": 66,
   "id": "0c132405-b5af-47a8-a202-034c974ba459",
   "metadata": {},
   "outputs": [
    {
     "name": "stdout",
     "output_type": "stream",
     "text": [
      "+---------+----+----------+------+\n",
      "|     name| age|experience|salary|\n",
      "+---------+----+----------+------+\n",
      "|   aditya|  26|         4| 50000|\n",
      "|  nainesh|  25|         3| 40000|\n",
      "|    nitin|  25|      null| 45000|\n",
      "|   snehal|  24|         1| 25000|\n",
      "|samruddhi|  25|         2|  null|\n",
      "|  prajwal|  27|         4| 35000|\n",
      "|   sanket|null|         1| 20000|\n",
      "|    viraj|  25|         2| 37000|\n",
      "+---------+----+----------+------+\n",
      "\n"
     ]
    }
   ],
   "source": [
    "df1.na.drop(how='any', thresh=3).show()"
   ]
  },
  {
   "cell_type": "code",
   "execution_count": 67,
   "id": "8093641e-4e1e-44cb-8038-40ab6aaf7088",
   "metadata": {},
   "outputs": [
    {
     "name": "stdout",
     "output_type": "stream",
     "text": [
      "+---------+---+----------+------+\n",
      "|     name|age|experience|salary|\n",
      "+---------+---+----------+------+\n",
      "|   aditya| 26|         4| 50000|\n",
      "|  nainesh| 25|         3| 40000|\n",
      "|    nitin| 25|      null| 45000|\n",
      "|   snehal| 24|         1| 25000|\n",
      "|samruddhi| 25|         2|  null|\n",
      "|  prajwal| 27|         4| 35000|\n",
      "|    viraj| 25|         2| 37000|\n",
      "|     null| 22|      null| 10000|\n",
      "+---------+---+----------+------+\n",
      "\n"
     ]
    }
   ],
   "source": [
    "df1.na.drop(how='any',subset=['age']).show()"
   ]
  },
  {
   "cell_type": "code",
   "execution_count": 68,
   "id": "15cfd390-cba9-4558-b775-fd2fbb8dc15e",
   "metadata": {},
   "outputs": [
    {
     "name": "stdout",
     "output_type": "stream",
     "text": [
      "+---------+----+----------+------+\n",
      "|     name| age|experience|salary|\n",
      "+---------+----+----------+------+\n",
      "|   aditya|  26|         4| 50000|\n",
      "|  nainesh|  25|         3| 40000|\n",
      "|   snehal|  24|         1| 25000|\n",
      "|samruddhi|  25|         2|  null|\n",
      "|  prajwal|  27|         4| 35000|\n",
      "|   sanket|null|         1| 20000|\n",
      "|    viraj|  25|         2| 37000|\n",
      "|   ashish|null|         4|  null|\n",
      "+---------+----+----------+------+\n",
      "\n"
     ]
    }
   ],
   "source": [
    "df1.na.drop(how='all',subset=['experience']).show()"
   ]
  },
  {
   "cell_type": "code",
   "execution_count": 71,
   "id": "1dc96e43-eae0-4969-a2f9-30297bc4e812",
   "metadata": {},
   "outputs": [
    {
     "name": "stdout",
     "output_type": "stream",
     "text": [
      "+---------+----+----------+------+\n",
      "|     name| age|experience|salary|\n",
      "+---------+----+----------+------+\n",
      "|   aditya|  26|         4| 50000|\n",
      "|  nainesh|  25|         3| 40000|\n",
      "|    nitin|  25|      null| 45000|\n",
      "|   snehal|  24|         1| 25000|\n",
      "|samruddhi|  25|         2|  null|\n",
      "|  prajwal|  27|         4| 35000|\n",
      "|   sanket|null|         1| 20000|\n",
      "|    viraj|  25|         2| 37000|\n",
      "|     null|  22|      null| 10000|\n",
      "|   ashish|null|         4|  null|\n",
      "+---------+----+----------+------+\n",
      "\n"
     ]
    }
   ],
   "source": [
    " # fill missing values\n",
    "df1.na.fill('missing',['age']).show()"
   ]
  },
  {
   "cell_type": "code",
   "execution_count": null,
   "id": "e082a277-d228-4252-8608-1d0d829fc4b6",
   "metadata": {},
   "outputs": [],
   "source": []
  }
 ],
 "metadata": {
  "kernelspec": {
   "display_name": "Python 3 (ipykernel)",
   "language": "python",
   "name": "python3"
  },
  "language_info": {
   "codemirror_mode": {
    "name": "ipython",
    "version": 3
   },
   "file_extension": ".py",
   "mimetype": "text/x-python",
   "name": "python",
   "nbconvert_exporter": "python",
   "pygments_lexer": "ipython3",
   "version": "3.9.12"
  }
 },
 "nbformat": 4,
 "nbformat_minor": 5
}
