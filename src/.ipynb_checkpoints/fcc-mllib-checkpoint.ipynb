{
 "cells": [
  {
   "cell_type": "code",
   "execution_count": 2,
   "id": "547b3a7c-c02d-412f-abae-9d1a5b76deb1",
   "metadata": {},
   "outputs": [],
   "source": [
    "from pyspark.sql import SparkSession\n"
   ]
  },
  {
   "cell_type": "code",
   "execution_count": 4,
   "id": "6fff8301-dcbb-497f-abbb-88f58fd6103a",
   "metadata": {},
   "outputs": [],
   "source": [
    "spark = SparkSession.builder.appName('mllib').getOrCreate() "
   ]
  },
  {
   "cell_type": "code",
   "execution_count": 5,
   "id": "6a6767a0-6100-4ff2-92bf-feea23090c6f",
   "metadata": {},
   "outputs": [
    {
     "data": {
      "text/html": [
       "\n",
       "            <div>\n",
       "                <p><b>SparkSession - in-memory</b></p>\n",
       "                \n",
       "        <div>\n",
       "            <p><b>SparkContext</b></p>\n",
       "\n",
       "            <p><a href=\"http://zephyrus:4042\">Spark UI</a></p>\n",
       "\n",
       "            <dl>\n",
       "              <dt>Version</dt>\n",
       "                <dd><code>v3.3.1</code></dd>\n",
       "              <dt>Master</dt>\n",
       "                <dd><code>local[*]</code></dd>\n",
       "              <dt>AppName</dt>\n",
       "                <dd><code>mllib</code></dd>\n",
       "            </dl>\n",
       "        </div>\n",
       "        \n",
       "            </div>\n",
       "        "
      ],
      "text/plain": [
       "<pyspark.sql.session.SparkSession at 0x179160f1e50>"
      ]
     },
     "execution_count": 5,
     "metadata": {},
     "output_type": "execute_result"
    }
   ],
   "source": [
    "spark\n"
   ]
  },
  {
   "cell_type": "code",
   "execution_count": 11,
   "id": "4011b0e9-076a-481e-8e46-0d1cda2ac9f4",
   "metadata": {},
   "outputs": [
    {
     "name": "stdout",
     "output_type": "stream",
     "text": [
      "+---------+---+------+----------+------+\n",
      "|     name|age|gender|experience|salary|\n",
      "+---------+---+------+----------+------+\n",
      "|   aditya| 26|     m|         4| 50000|\n",
      "|  nainesh| 25|     m|         3| 40000|\n",
      "|    nitin| 25|     m|         2| 45000|\n",
      "|   snehal| 24|     f|         1| 25000|\n",
      "|samruddhi| 25|     f|         2| 45000|\n",
      "|  prajwal| 27|     m|         4| 35000|\n",
      "|   sanket| 23|     m|         1| 20000|\n",
      "|    viraj| 25|     m|         2| 37000|\n",
      "|     amol| 22|     m|         2| 25000|\n",
      "|   ashish| 26|     m|         4| 23000|\n",
      "+---------+---+------+----------+------+\n",
      "\n"
     ]
    }
   ],
   "source": [
    "df_pd = spark.read.csv('../data/friends.csv',header=True,inferSchema=True)\n",
    "df_pd.show()\n",
    "\n"
   ]
  },
  {
   "cell_type": "code",
   "execution_count": 13,
   "id": "bbf0716c-6408-497c-b311-b5fbe33876a0",
   "metadata": {},
   "outputs": [
    {
     "data": {
      "text/plain": [
       "['name', 'age', 'gender', 'experience', 'salary']"
      ]
     },
     "execution_count": 13,
     "metadata": {},
     "output_type": "execute_result"
    }
   ],
   "source": [
    "df_pd.columns"
   ]
  },
  {
   "cell_type": "code",
   "execution_count": 17,
   "id": "1ee3cfe9-4438-44da-910d-f4e23a821eda",
   "metadata": {},
   "outputs": [],
   "source": [
    "from pyspark.ml.feature import VectorAssembler\n",
    "featureassembler = VectorAssembler(inputCols=['age','experience'],outputCol='Independent features')"
   ]
  },
  {
   "cell_type": "code",
   "execution_count": 19,
   "id": "516b6a2c-c568-472f-aee9-d91ef6645ba6",
   "metadata": {},
   "outputs": [],
   "source": [
    "output = featureassembler.transform(df_pd)"
   ]
  },
  {
   "cell_type": "code",
   "execution_count": 21,
   "id": "9c98d03b-bd72-439b-bc5e-9501c23a9111",
   "metadata": {},
   "outputs": [
    {
     "data": {
      "text/plain": [
       "['name', 'age', 'gender', 'experience', 'salary', 'Independent features']"
      ]
     },
     "execution_count": 21,
     "metadata": {},
     "output_type": "execute_result"
    }
   ],
   "source": [
    "output.columns"
   ]
  },
  {
   "cell_type": "code",
   "execution_count": 22,
   "id": "c631aa72-226d-4de0-9b2b-213301fc6f67",
   "metadata": {},
   "outputs": [
    {
     "name": "stdout",
     "output_type": "stream",
     "text": [
      "+---------+---+------+----------+------+--------------------+\n",
      "|     name|age|gender|experience|salary|Independent features|\n",
      "+---------+---+------+----------+------+--------------------+\n",
      "|   aditya| 26|     m|         4| 50000|          [26.0,4.0]|\n",
      "|  nainesh| 25|     m|         3| 40000|          [25.0,3.0]|\n",
      "|    nitin| 25|     m|         2| 45000|          [25.0,2.0]|\n",
      "|   snehal| 24|     f|         1| 25000|          [24.0,1.0]|\n",
      "|samruddhi| 25|     f|         2| 45000|          [25.0,2.0]|\n",
      "|  prajwal| 27|     m|         4| 35000|          [27.0,4.0]|\n",
      "|   sanket| 23|     m|         1| 20000|          [23.0,1.0]|\n",
      "|    viraj| 25|     m|         2| 37000|          [25.0,2.0]|\n",
      "|     amol| 22|     m|         2| 25000|          [22.0,2.0]|\n",
      "|   ashish| 26|     m|         4| 23000|          [26.0,4.0]|\n",
      "+---------+---+------+----------+------+--------------------+\n",
      "\n"
     ]
    }
   ],
   "source": [
    "output.show()"
   ]
  },
  {
   "cell_type": "code",
   "execution_count": 24,
   "id": "7fe3c704-c073-4cc3-bbeb-e42470eb3796",
   "metadata": {},
   "outputs": [],
   "source": [
    "finalized_data = output.select('Independent features','salary')"
   ]
  },
  {
   "cell_type": "code",
   "execution_count": 28,
   "id": "018a0e3a-6f0e-44e2-8e7e-e4eacac18ef2",
   "metadata": {},
   "outputs": [
    {
     "name": "stdout",
     "output_type": "stream",
     "text": [
      "+--------------------+------+\n",
      "|Independent features|salary|\n",
      "+--------------------+------+\n",
      "|          [26.0,4.0]| 50000|\n",
      "|          [25.0,3.0]| 40000|\n",
      "|          [25.0,2.0]| 45000|\n",
      "|          [24.0,1.0]| 25000|\n",
      "|          [25.0,2.0]| 45000|\n",
      "|          [27.0,4.0]| 35000|\n",
      "|          [23.0,1.0]| 20000|\n",
      "|          [25.0,2.0]| 37000|\n",
      "|          [22.0,2.0]| 25000|\n",
      "|          [26.0,4.0]| 23000|\n",
      "+--------------------+------+\n",
      "\n"
     ]
    }
   ],
   "source": [
    "finalized_data.show()"
   ]
  },
  {
   "cell_type": "code",
   "execution_count": 30,
   "id": "28c26a38-8653-4848-ad1f-3b7a59ff4b5a",
   "metadata": {},
   "outputs": [],
   "source": [
    "from pyspark.ml.regression import LinearRegression\n",
    "# splitttingg data into train and test data\n",
    "train,test  = finalized_data.randomSplit([0.75,0.25])\n",
    "regressor = LinearRegression(featuresCol='Independent features',labelCol='salary')\n",
    "regressor = regressor.fit(train)"
   ]
  },
  {
   "cell_type": "code",
   "execution_count": 35,
   "id": "7b140352-e083-4fd0-a42d-aac37ccfe0ae",
   "metadata": {},
   "outputs": [
    {
     "data": {
      "text/plain": [
       "DenseVector([4415.2542, 220.339])"
      ]
     },
     "execution_count": 35,
     "metadata": {},
     "output_type": "execute_result"
    }
   ],
   "source": [
    "# coefficients\n",
    "regressor.coefficients"
   ]
  },
  {
   "cell_type": "code",
   "execution_count": 36,
   "id": "0889c3f2-df6e-4d80-8432-ee6da7006f5c",
   "metadata": {},
   "outputs": [
    {
     "data": {
      "text/plain": [
       "-72703.38983050824"
      ]
     },
     "execution_count": 36,
     "metadata": {},
     "output_type": "execute_result"
    }
   ],
   "source": [
    "# intercepts\n",
    "regressor.intercept"
   ]
  },
  {
   "cell_type": "code",
   "execution_count": 39,
   "id": "20fc907c-41ff-43df-b720-f11c9cdd4bf2",
   "metadata": {},
   "outputs": [],
   "source": [
    "results = regressor.evaluate(test)"
   ]
  },
  {
   "cell_type": "code",
   "execution_count": 43,
   "id": "4078c746-7347-463c-8c41-2d5e2d4e19ea",
   "metadata": {},
   "outputs": [
    {
     "name": "stdout",
     "output_type": "stream",
     "text": [
      "+--------------------+------+-----------------+\n",
      "|Independent features|salary|       prediction|\n",
      "+--------------------+------+-----------------+\n",
      "|          [24.0,1.0]| 25000|33483.05084745771|\n",
      "|          [26.0,4.0]| 23000|42974.57627118645|\n",
      "+--------------------+------+-----------------+\n",
      "\n"
     ]
    }
   ],
   "source": [
    "results.predictions.show()"
   ]
  },
  {
   "cell_type": "code",
   "execution_count": 45,
   "id": "6043f5de-7b9c-408c-9216-b2101df9d12f",
   "metadata": {},
   "outputs": [
    {
     "data": {
      "text/plain": [
       "(14228.81355932208, 235472924.44699886)"
      ]
     },
     "execution_count": 45,
     "metadata": {},
     "output_type": "execute_result"
    }
   ],
   "source": [
    "results.meanAbsoluteError, results.meanSquaredError"
   ]
  },
  {
   "cell_type": "code",
   "execution_count": null,
   "id": "9c26baef-3ef1-4f83-b766-a0a8f5da1b52",
   "metadata": {},
   "outputs": [],
   "source": []
  }
 ],
 "metadata": {
  "kernelspec": {
   "display_name": "Python 3 (ipykernel)",
   "language": "python",
   "name": "python3"
  },
  "language_info": {
   "codemirror_mode": {
    "name": "ipython",
    "version": 3
   },
   "file_extension": ".py",
   "mimetype": "text/x-python",
   "name": "python",
   "nbconvert_exporter": "python",
   "pygments_lexer": "ipython3",
   "version": "3.9.12"
  }
 },
 "nbformat": 4,
 "nbformat_minor": 5
}
