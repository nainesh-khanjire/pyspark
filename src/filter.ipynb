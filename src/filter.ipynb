{
 "cells": [
  {
   "cell_type": "code",
   "execution_count": 21,
   "id": "e3c106da-7c1e-4453-9933-7a4ad40ae2e5",
   "metadata": {},
   "outputs": [],
   "source": [
    "from pyspark.sql import SparkSession\n"
   ]
  },
  {
   "cell_type": "code",
   "execution_count": 22,
   "id": "7caea2d2-8fd4-44e0-8d27-3a681fcedc7b",
   "metadata": {},
   "outputs": [
    {
     "data": {
      "text/html": [
       "\n",
       "            <div>\n",
       "                <p><b>SparkSession - in-memory</b></p>\n",
       "                \n",
       "        <div>\n",
       "            <p><b>SparkContext</b></p>\n",
       "\n",
       "            <p><a href=\"http://zephyrus:4040\">Spark UI</a></p>\n",
       "\n",
       "            <dl>\n",
       "              <dt>Version</dt>\n",
       "                <dd><code>v3.3.1</code></dd>\n",
       "              <dt>Master</dt>\n",
       "                <dd><code>local[*]</code></dd>\n",
       "              <dt>AppName</dt>\n",
       "                <dd><code>dataframe</code></dd>\n",
       "            </dl>\n",
       "        </div>\n",
       "        \n",
       "            </div>\n",
       "        "
      ],
      "text/plain": [
       "<pyspark.sql.session.SparkSession at 0x2b1331d21f0>"
      ]
     },
     "execution_count": 22,
     "metadata": {},
     "output_type": "execute_result"
    }
   ],
   "source": [
    "spark=SparkSession.builder.appName('dataframe').getOrCreate()\n",
    "spark"
   ]
  },
  {
   "cell_type": "code",
   "execution_count": 23,
   "id": "3bdfbcd0-fbd8-4c2e-b90d-28ce7639ae02",
   "metadata": {},
   "outputs": [
    {
     "name": "stdout",
     "output_type": "stream",
     "text": [
      "+---------+----+------+----------+------+\n",
      "|     name| age|gender|experience|salary|\n",
      "+---------+----+------+----------+------+\n",
      "|   aditya|  26|     m|         4| 50000|\n",
      "|  nainesh|  25|     m|         3| 40000|\n",
      "|    nitin|  25|     m|      null| 45000|\n",
      "|   snehal|  24|     f|         1| 25000|\n",
      "|samruddhi|  25|     f|         2|  null|\n",
      "|  prajwal|  27|     m|         4| 35000|\n",
      "|   sanket|null|     m|         1| 20000|\n",
      "|    viraj|  25|     m|         2| 37000|\n",
      "|     null|  22|     f|      null| 10000|\n",
      "|   ashish|null|     m|         4|  null|\n",
      "+---------+----+------+----------+------+\n",
      "\n"
     ]
    }
   ],
   "source": [
    "df0 = spark.read.csv('../data/friends.csv',header=True,inferSchema=True)\n",
    "df0.show()"
   ]
  },
  {
   "cell_type": "code",
   "execution_count": 24,
   "id": "8b471a09-b85a-4f2a-b4ef-75de09970ba7",
   "metadata": {},
   "outputs": [],
   "source": [
    "# df0 = df0.na.drop(how='any').show()\n",
    "# df0"
   ]
  },
  {
   "cell_type": "markdown",
   "id": "a28d36f9-ef5a-4d01-9844-9dbabac8a828",
   "metadata": {},
   "source": [
    "## **filter operations**"
   ]
  },
  {
   "cell_type": "code",
   "execution_count": 25,
   "id": "6d627264-6d5a-4d91-ab6b-ee8daa8669ca",
   "metadata": {
    "tags": []
   },
   "outputs": [
    {
     "name": "stdout",
     "output_type": "stream",
     "text": [
      "+------+----+------+----------+------+\n",
      "|  name| age|gender|experience|salary|\n",
      "+------+----+------+----------+------+\n",
      "|sanket|null|     m|         1| 20000|\n",
      "|  null|  22|     f|      null| 10000|\n",
      "+------+----+------+----------+------+\n",
      "\n"
     ]
    }
   ],
   "source": [
    "## salary of people <= 20000\n",
    "df0.filter(\"salary<=20000\").show()\n"
   ]
  },
  {
   "cell_type": "code",
   "execution_count": 26,
   "id": "5ecec75b-bce6-4956-9563-83646722d654",
   "metadata": {},
   "outputs": [
    {
     "name": "stdout",
     "output_type": "stream",
     "text": [
      "+-------+------+----+------+\n",
      "|   name|salary| age|gender|\n",
      "+-------+------+----+------+\n",
      "| aditya| 50000|  26|     m|\n",
      "|nainesh| 40000|  25|     m|\n",
      "|  nitin| 45000|  25|     m|\n",
      "| snehal| 25000|  24|     f|\n",
      "|prajwal| 35000|  27|     m|\n",
      "| sanket| 20000|null|     m|\n",
      "|  viraj| 37000|  25|     m|\n",
      "+-------+------+----+------+\n",
      "\n"
     ]
    }
   ],
   "source": [
    "df0.filter('salary>=20000').select('name','salary','age','gender').show()"
   ]
  },
  {
   "cell_type": "code",
   "execution_count": 29,
   "id": "803f9abe-c62a-4204-bb7c-b106d8b5940d",
   "metadata": {},
   "outputs": [
    {
     "name": "stdout",
     "output_type": "stream",
     "text": [
      "+-------+----+------+----------+------+\n",
      "|   name| age|gender|experience|salary|\n",
      "+-------+----+------+----------+------+\n",
      "| aditya|  26|     m|         4| 50000|\n",
      "|nainesh|  25|     m|         3| 40000|\n",
      "|  nitin|  25|     m|      null| 45000|\n",
      "|prajwal|  27|     m|         4| 35000|\n",
      "| sanket|null|     m|         1| 20000|\n",
      "|  viraj|  25|     m|         2| 37000|\n",
      "+-------+----+------+----------+------+\n",
      "\n"
     ]
    }
   ],
   "source": [
    "df0.filter((df0['salary']>=15000)& (df0['gender']=='m')).show()"
   ]
  },
  {
   "cell_type": "code",
   "execution_count": null,
   "id": "64299a17-f766-457a-b099-5ae102f81523",
   "metadata": {},
   "outputs": [],
   "source": []
  },
  {
   "cell_type": "code",
   "execution_count": null,
   "id": "8f324e12-d0af-4a6a-aeb2-19698b00b112",
   "metadata": {},
   "outputs": [],
   "source": []
  },
  {
   "cell_type": "code",
   "execution_count": null,
   "id": "a20e794a-9c74-4d7c-9a88-be339d76e25e",
   "metadata": {},
   "outputs": [],
   "source": []
  },
  {
   "cell_type": "code",
   "execution_count": null,
   "id": "b7813930-f40c-4146-8222-a23732c126de",
   "metadata": {},
   "outputs": [],
   "source": []
  },
  {
   "cell_type": "code",
   "execution_count": null,
   "id": "2e115941-c1b0-4006-a5bc-e439f14fdbd3",
   "metadata": {},
   "outputs": [],
   "source": []
  },
  {
   "cell_type": "code",
   "execution_count": null,
   "id": "286dfa03-79e9-4d15-b671-68497c06e1d3",
   "metadata": {},
   "outputs": [],
   "source": []
  }
 ],
 "metadata": {
  "kernelspec": {
   "display_name": "Python 3",
   "language": "python",
   "name": "python3"
  },
  "language_info": {
   "codemirror_mode": {
    "name": "ipython",
    "version": 3
   },
   "file_extension": ".py",
   "mimetype": "text/x-python",
   "name": "python",
   "nbconvert_exporter": "python",
   "pygments_lexer": "ipython3",
   "version": "3.9.12 (main, Apr  4 2022, 05:22:27) [MSC v.1916 64 bit (AMD64)]"
  },
  "vscode": {
   "interpreter": {
    "hash": "e362d06cc908f32e8db6920f0b7bc6754cc7557171ff01d64b5f38263a887f00"
   }
  }
 },
 "nbformat": 4,
 "nbformat_minor": 5
}
