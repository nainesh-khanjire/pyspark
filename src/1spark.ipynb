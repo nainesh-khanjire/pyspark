{
 "cells": [
  {
   "cell_type": "code",
   "execution_count": null,
   "id": "d9836980",
   "metadata": {},
   "outputs": [],
   "source": [
    "from pyspark.sql import SparkSession"
   ]
  },
  {
   "cell_type": "code",
   "execution_count": null,
   "id": "a3beeabc",
   "metadata": {},
   "outputs": [],
   "source": [
    "spark = SparkSession.builder.appName('practice').getOrCreate()\n",
    "spark"
   ]
  },
  {
   "cell_type": "code",
   "execution_count": 84,
   "id": "7ba659c2",
   "metadata": {},
   "outputs": [
    {
     "name": "stdout",
     "output_type": "stream",
     "text": [
      "+---------+----+------+----------+------+\n",
      "|     name| age|gender|experience|salary|\n",
      "+---------+----+------+----------+------+\n",
      "|   aditya|  26|     m|         4| 50000|\n",
      "|  nainesh|  25|     m|         3| 40000|\n",
      "|    nitin|  25|     m|         2| 45000|\n",
      "|   snehal|null|     f|         1| 25000|\n",
      "|samruddhi|  25|     f|      null| 45000|\n",
      "|  prajwal|  27|     m|         4| 35000|\n",
      "|   sanket|  23|     m|         1|  null|\n",
      "|    viraj|  25|     m|         2|  null|\n",
      "|     amol|  22|     m|         2| 25000|\n",
      "|   ashish|null|     m|         4| 23000|\n",
      "+---------+----+------+----------+------+\n",
      "\n"
     ]
    }
   ],
   "source": [
    "df = spark.read.csv('../data/friends.csv',inferSchema=True, header=True)\n",
    "df.show()"
   ]
  },
  {
   "cell_type": "code",
   "execution_count": 85,
   "id": "035296cb",
   "metadata": {},
   "outputs": [
    {
     "data": {
      "text/plain": [
       "pyspark.sql.dataframe.DataFrame"
      ]
     },
     "execution_count": 85,
     "metadata": {},
     "output_type": "execute_result"
    }
   ],
   "source": [
    "type(df)"
   ]
  },
  {
   "cell_type": "code",
   "execution_count": 86,
   "id": "641841c3",
   "metadata": {},
   "outputs": [
    {
     "name": "stdout",
     "output_type": "stream",
     "text": [
      "root\n",
      " |-- name: string (nullable = true)\n",
      " |-- age: integer (nullable = true)\n",
      " |-- gender: string (nullable = true)\n",
      " |-- experience: integer (nullable = true)\n",
      " |-- salary: integer (nullable = true)\n",
      "\n"
     ]
    }
   ],
   "source": [
    "df.printSchema()"
   ]
  },
  {
   "cell_type": "code",
   "execution_count": 87,
   "id": "7d3ea725",
   "metadata": {},
   "outputs": [
    {
     "data": {
      "text/plain": [
       "['name', 'age', 'gender', 'experience', 'salary']"
      ]
     },
     "execution_count": 87,
     "metadata": {},
     "output_type": "execute_result"
    }
   ],
   "source": [
    "df.columns"
   ]
  },
  {
   "cell_type": "code",
   "execution_count": 88,
   "id": "748e5282",
   "metadata": {},
   "outputs": [
    {
     "name": "stdout",
     "output_type": "stream",
     "text": [
      "+------+---+------+----------+------+\n",
      "|  name|age|gender|experience|salary|\n",
      "+------+---+------+----------+------+\n",
      "|aditya| 26|     m|         4| 50000|\n",
      "+------+---+------+----------+------+\n",
      "only showing top 1 row\n",
      "\n"
     ]
    }
   ],
   "source": [
    "df.show(1)"
   ]
  },
  {
   "cell_type": "code",
   "execution_count": 89,
   "id": "0f0bbc70",
   "metadata": {},
   "outputs": [
    {
     "name": "stdout",
     "output_type": "stream",
     "text": [
      "+------+------+\n",
      "|  name|salary|\n",
      "+------+------+\n",
      "|aditya| 50000|\n",
      "+------+------+\n",
      "only showing top 1 row\n",
      "\n"
     ]
    }
   ],
   "source": [
    "df.select('name','salary').show(1)"
   ]
  },
  {
   "cell_type": "code",
   "execution_count": 90,
   "id": "8afd5608",
   "metadata": {},
   "outputs": [
    {
     "name": "stdout",
     "output_type": "stream",
     "text": [
      "+-------+------+------------------+------+------------------+------------------+\n",
      "|summary|  name|               age|gender|        experience|            salary|\n",
      "+-------+------+------------------+------+------------------+------------------+\n",
      "|  count|    10|                 8|    10|                 9|                 8|\n",
      "|   mean|  null|             24.75|  null|2.5555555555555554|           36000.0|\n",
      "| stddev|  null|1.5811388300841898|  null|1.2360330811826103|10596.495377515826|\n",
      "|    min|aditya|                22|     f|                 1|             23000|\n",
      "|    max| viraj|                27|     m|                 4|             50000|\n",
      "+-------+------+------------------+------+------------------+------------------+\n",
      "\n"
     ]
    }
   ],
   "source": [
    "df.describe().show()"
   ]
  },
  {
   "cell_type": "code",
   "execution_count": 98,
   "id": "7ccd51b1",
   "metadata": {},
   "outputs": [
    {
     "name": "stdout",
     "output_type": "stream",
     "text": [
      "+---------+----+------+----------+------+----------------------+\n",
      "|     name| age|gender|experience|salary|experience_after_years|\n",
      "+---------+----+------+----------+------+----------------------+\n",
      "|   aditya|  26|     m|         4| 50000|                     6|\n",
      "|  nainesh|  25|     m|         3| 40000|                     5|\n",
      "|    nitin|  25|     m|         2| 45000|                     4|\n",
      "|   snehal|null|     f|         1| 25000|                     3|\n",
      "|samruddhi|  25|     f|      null| 45000|                  null|\n",
      "|  prajwal|  27|     m|         4| 35000|                     6|\n",
      "|   sanket|  23|     m|         1|  null|                     3|\n",
      "|    viraj|  25|     m|         2|  null|                     4|\n",
      "|     amol|  22|     m|         2| 25000|                     4|\n",
      "|   ashish|null|     m|         4| 23000|                     6|\n",
      "+---------+----+------+----------+------+----------------------+\n",
      "\n"
     ]
    }
   ],
   "source": [
    "df.withColumn('experience_after_years',df['experience']+2).show()"
   ]
  },
  {
   "cell_type": "code",
   "execution_count": null,
   "id": "7c7c8bb5",
   "metadata": {},
   "outputs": [],
   "source": []
  },
  {
   "cell_type": "code",
   "execution_count": 99,
   "id": "539b2ca9",
   "metadata": {},
   "outputs": [
    {
     "name": "stdout",
     "output_type": "stream",
     "text": [
      "+---------+----+------+----------+------+\n",
      "|     name| age|gender|experience|salary|\n",
      "+---------+----+------+----------+------+\n",
      "|   aditya|  26|     m|         4| 50000|\n",
      "|  nainesh|  25|     m|         3| 40000|\n",
      "|    nitin|  25|     m|         2| 45000|\n",
      "|   snehal|null|     f|         1| 25000|\n",
      "|samruddhi|  25|     f|      null| 45000|\n",
      "|  prajwal|  27|     m|         4| 35000|\n",
      "|   sanket|  23|     m|         1|  null|\n",
      "|    viraj|  25|     m|         2|  null|\n",
      "|     amol|  22|     m|         2| 25000|\n",
      "|   ashish|null|     m|         4| 23000|\n",
      "+---------+----+------+----------+------+\n",
      "\n"
     ]
    }
   ],
   "source": [
    "df.show()"
   ]
  },
  {
   "cell_type": "code",
   "execution_count": 100,
   "id": "70153baa",
   "metadata": {},
   "outputs": [
    {
     "name": "stdout",
     "output_type": "stream",
     "text": [
      "+---------+----+------+---------------+------+\n",
      "|     name| age|gender|work_experience|salary|\n",
      "+---------+----+------+---------------+------+\n",
      "|   aditya|  26|     m|              4| 50000|\n",
      "|  nainesh|  25|     m|              3| 40000|\n",
      "|    nitin|  25|     m|              2| 45000|\n",
      "|   snehal|null|     f|              1| 25000|\n",
      "|samruddhi|  25|     f|           null| 45000|\n",
      "|  prajwal|  27|     m|              4| 35000|\n",
      "|   sanket|  23|     m|              1|  null|\n",
      "|    viraj|  25|     m|              2|  null|\n",
      "|     amol|  22|     m|              2| 25000|\n",
      "|   ashish|null|     m|              4| 23000|\n",
      "+---------+----+------+---------------+------+\n",
      "\n"
     ]
    }
   ],
   "source": [
    "# rename the colmnn\n",
    "df.withColumnRenamed('experience','work_experience').show()\n"
   ]
  },
  {
   "cell_type": "code",
   "execution_count": null,
   "id": "933a6e6d",
   "metadata": {},
   "outputs": [],
   "source": []
  },
  {
   "cell_type": "code",
   "execution_count": 103,
   "id": "242d4062",
   "metadata": {},
   "outputs": [
    {
     "name": "stdout",
     "output_type": "stream",
     "text": [
      "+-------+---+------+----------+------+\n",
      "|   name|age|gender|experience|salary|\n",
      "+-------+---+------+----------+------+\n",
      "| aditya| 26|     m|         4| 50000|\n",
      "|nainesh| 25|     m|         3| 40000|\n",
      "|  nitin| 25|     m|         2| 45000|\n",
      "|prajwal| 27|     m|         4| 35000|\n",
      "|   amol| 22|     m|         2| 25000|\n",
      "+-------+---+------+----------+------+\n",
      "\n"
     ]
    }
   ],
   "source": [
    "df.na.drop(how='any').show()\n",
    "\n"
   ]
  },
  {
   "cell_type": "code",
   "execution_count": 104,
   "id": "0220dace",
   "metadata": {},
   "outputs": [
    {
     "name": "stdout",
     "output_type": "stream",
     "text": [
      "+---------+----+------+----------+------+\n",
      "|     name| age|gender|experience|salary|\n",
      "+---------+----+------+----------+------+\n",
      "|   aditya|  26|     m|         4| 50000|\n",
      "|  nainesh|  25|     m|         3| 40000|\n",
      "|    nitin|  25|     m|         2| 45000|\n",
      "|   snehal|null|     f|         1| 25000|\n",
      "|samruddhi|  25|     f|      null| 45000|\n",
      "|  prajwal|  27|     m|         4| 35000|\n",
      "|     amol|  22|     m|         2| 25000|\n",
      "|   ashish|null|     m|         4| 23000|\n",
      "+---------+----+------+----------+------+\n",
      "\n"
     ]
    }
   ],
   "source": [
    "# subset\n",
    "df.na.drop(how='any',subset=['salary']).show()"
   ]
  },
  {
   "cell_type": "code",
   "execution_count": 105,
   "id": "1fbc4528",
   "metadata": {},
   "outputs": [
    {
     "name": "stdout",
     "output_type": "stream",
     "text": [
      "+---------+----+------+----------+------+\n",
      "|     name| age|gender|experience|salary|\n",
      "+---------+----+------+----------+------+\n",
      "|   aditya|  26|     m|         4| 50000|\n",
      "|  nainesh|  25|     m|         3| 40000|\n",
      "|    nitin|  25|     m|         2| 45000|\n",
      "|   snehal|null|     f|         1| 25000|\n",
      "|samruddhi|  25|     f|      null| 45000|\n",
      "|  prajwal|  27|     m|         4| 35000|\n",
      "|   sanket|  23|     m|         1|  null|\n",
      "|    viraj|  25|     m|         2|  null|\n",
      "|     amol|  22|     m|         2| 25000|\n",
      "|   ashish|null|     m|         4| 23000|\n",
      "+---------+----+------+----------+------+\n",
      "\n"
     ]
    }
   ],
   "source": [
    "df.show()"
   ]
  },
  {
   "cell_type": "code",
   "execution_count": 108,
   "id": "922824d8",
   "metadata": {},
   "outputs": [
    {
     "name": "stdout",
     "output_type": "stream",
     "text": [
      "root\n",
      " |-- name: string (nullable = true)\n",
      " |-- age: integer (nullable = true)\n",
      " |-- gender: string (nullable = true)\n",
      " |-- experience: integer (nullable = true)\n",
      " |-- salary: integer (nullable = true)\n",
      "\n"
     ]
    }
   ],
   "source": [
    "df.printSchema()"
   ]
  },
  {
   "cell_type": "code",
   "execution_count": 111,
   "id": "5cffda61",
   "metadata": {},
   "outputs": [
    {
     "name": "stdout",
     "output_type": "stream",
     "text": [
      "+---------+----+------+----------+------+\n",
      "|     name| age|gender|experience|salary|\n",
      "+---------+----+------+----------+------+\n",
      "|   aditya|  26|     m|         4| 50000|\n",
      "|  nainesh|  25|     m|         3| 40000|\n",
      "|    nitin|  25|     m|         2| 45000|\n",
      "|   snehal|null|     f|         1| 25000|\n",
      "|samruddhi|  25|     f|      null| 45000|\n",
      "|  prajwal|  27|     m|         4| 35000|\n",
      "|   sanket|  23|     m|         1|  null|\n",
      "|    viraj|  25|     m|         2|  null|\n",
      "|     amol|  22|     m|         2| 25000|\n",
      "|   ashish|null|     m|         4| 23000|\n",
      "+---------+----+------+----------+------+\n",
      "\n"
     ]
    }
   ],
   "source": [
    "# fill the missing values\n",
    "df.na.fill('missing_value').show()"
   ]
  },
  {
   "cell_type": "code",
   "execution_count": 116,
   "id": "7f588bc0",
   "metadata": {},
   "outputs": [],
   "source": [
    "# imputer function\n",
    "from pyspark.ml.feature import Imputer\n",
    "imputer = Imputer(\n",
    "    inputCols=['age','experience','salary'],\n",
    "    outputCols=[\"{}_imputed\".format(i) for i in ['age','experience','salary']] \n",
    ").setStrategy('mean')"
   ]
  },
  {
   "cell_type": "code",
   "execution_count": 118,
   "id": "5817fd40",
   "metadata": {},
   "outputs": [
    {
     "name": "stdout",
     "output_type": "stream",
     "text": [
      "+---------+----+------+----------+------+-----------+------------------+--------------+\n",
      "|     name| age|gender|experience|salary|age_imputed|experience_imputed|salary_imputed|\n",
      "+---------+----+------+----------+------+-----------+------------------+--------------+\n",
      "|   aditya|  26|     m|         4| 50000|         26|                 4|         50000|\n",
      "|  nainesh|  25|     m|         3| 40000|         25|                 3|         40000|\n",
      "|    nitin|  25|     m|         2| 45000|         25|                 2|         45000|\n",
      "|   snehal|null|     f|         1| 25000|         24|                 1|         25000|\n",
      "|samruddhi|  25|     f|      null| 45000|         25|                 2|         45000|\n",
      "|  prajwal|  27|     m|         4| 35000|         27|                 4|         35000|\n",
      "|   sanket|  23|     m|         1|  null|         23|                 1|         36000|\n",
      "|    viraj|  25|     m|         2|  null|         25|                 2|         36000|\n",
      "|     amol|  22|     m|         2| 25000|         22|                 2|         25000|\n",
      "|   ashish|null|     m|         4| 23000|         24|                 4|         23000|\n",
      "+---------+----+------+----------+------+-----------+------------------+--------------+\n",
      "\n"
     ]
    }
   ],
   "source": [
    "imputer.fit(df).transform(df).show()"
   ]
  },
  {
   "cell_type": "code",
   "execution_count": 122,
   "id": "fa05bc9c",
   "metadata": {},
   "outputs": [
    {
     "name": "stdout",
     "output_type": "stream",
     "text": [
      "+---------+----+------+----------+------+\n",
      "|     name| age|gender|experience|salary|\n",
      "+---------+----+------+----------+------+\n",
      "|   aditya|  26|     m|         4| 50000|\n",
      "|  nainesh|  25|     m|         3| 40000|\n",
      "|    nitin|  25|     m|         2| 45000|\n",
      "|   snehal|null|     f|         1| 25000|\n",
      "|samruddhi|  25|     f|      null| 45000|\n",
      "|  prajwal|  27|     m|         4| 35000|\n",
      "|   sanket|  23|     m|         1|  null|\n",
      "|    viraj|  25|     m|         2|  null|\n",
      "|     amol|  22|     m|         2| 25000|\n",
      "|   ashish|null|     m|         4| 23000|\n",
      "+---------+----+------+----------+------+\n",
      "\n"
     ]
    }
   ],
   "source": [
    "df.show()"
   ]
  },
  {
   "cell_type": "markdown",
   "id": "7b4783f5",
   "metadata": {},
   "source": [
    "# filter operations"
   ]
  },
  {
   "cell_type": "code",
   "execution_count": 124,
   "id": "7070f682",
   "metadata": {},
   "outputs": [
    {
     "name": "stdout",
     "output_type": "stream",
     "text": [
      "+------+----+\n",
      "|  name| age|\n",
      "+------+----+\n",
      "|snehal|null|\n",
      "|  amol|  22|\n",
      "|ashish|null|\n",
      "+------+----+\n",
      "\n"
     ]
    }
   ],
   "source": [
    "# people with salary < 30000 \n",
    "\n",
    "df.filter('salary < 30000').select(['name','age']).show()\n"
   ]
  },
  {
   "cell_type": "code",
   "execution_count": 127,
   "id": "57b24eab",
   "metadata": {},
   "outputs": [
    {
     "name": "stdout",
     "output_type": "stream",
     "text": [
      "+---------+----+------+----------+------+\n",
      "|     name| age|gender|experience|salary|\n",
      "+---------+----+------+----------+------+\n",
      "|   aditya|  26|     m|         4| 50000|\n",
      "|  nainesh|  25|     m|         3| 40000|\n",
      "|    nitin|  25|     m|         2| 45000|\n",
      "|   snehal|null|     f|         1| 25000|\n",
      "|samruddhi|  25|     f|      null| 45000|\n",
      "|  prajwal|  27|     m|         4| 35000|\n",
      "|     amol|  22|     m|         2| 25000|\n",
      "|   ashish|null|     m|         4| 23000|\n",
      "+---------+----+------+----------+------+\n",
      "\n"
     ]
    }
   ],
   "source": [
    "df.filter((df['salary']>30000) |\n",
    "           (df['salary']<=40000)).show()"
   ]
  },
  {
   "cell_type": "code",
   "execution_count": null,
   "id": "bc52b015",
   "metadata": {},
   "outputs": [],
   "source": [
    "df."
   ]
  },
  {
   "cell_type": "code",
   "execution_count": null,
   "id": "12c3036f",
   "metadata": {},
   "outputs": [],
   "source": []
  },
  {
   "cell_type": "code",
   "execution_count": null,
   "id": "d446efdd",
   "metadata": {},
   "outputs": [],
   "source": []
  },
  {
   "cell_type": "code",
   "execution_count": null,
   "id": "8dc14d30",
   "metadata": {},
   "outputs": [],
   "source": []
  },
  {
   "cell_type": "code",
   "execution_count": null,
   "id": "cdac79df",
   "metadata": {},
   "outputs": [],
   "source": []
  },
  {
   "cell_type": "code",
   "execution_count": null,
   "id": "f4a55b52",
   "metadata": {},
   "outputs": [],
   "source": []
  },
  {
   "cell_type": "code",
   "execution_count": null,
   "id": "5507d8e2",
   "metadata": {},
   "outputs": [],
   "source": []
  },
  {
   "cell_type": "code",
   "execution_count": null,
   "id": "1e967421",
   "metadata": {},
   "outputs": [],
   "source": []
  },
  {
   "cell_type": "code",
   "execution_count": null,
   "id": "513a39b9",
   "metadata": {},
   "outputs": [],
   "source": []
  },
  {
   "cell_type": "code",
   "execution_count": null,
   "id": "18235292",
   "metadata": {},
   "outputs": [],
   "source": []
  },
  {
   "cell_type": "code",
   "execution_count": null,
   "id": "48441767",
   "metadata": {},
   "outputs": [],
   "source": []
  },
  {
   "cell_type": "code",
   "execution_count": null,
   "id": "faf05ced",
   "metadata": {},
   "outputs": [],
   "source": []
  },
  {
   "cell_type": "code",
   "execution_count": null,
   "id": "f38103f9",
   "metadata": {},
   "outputs": [],
   "source": []
  },
  {
   "cell_type": "code",
   "execution_count": null,
   "id": "761f8154",
   "metadata": {},
   "outputs": [],
   "source": []
  },
  {
   "cell_type": "code",
   "execution_count": null,
   "id": "7d3db178",
   "metadata": {},
   "outputs": [],
   "source": []
  },
  {
   "cell_type": "code",
   "execution_count": null,
   "id": "e6d32c94",
   "metadata": {},
   "outputs": [],
   "source": []
  },
  {
   "cell_type": "code",
   "execution_count": null,
   "id": "0a98cd3b",
   "metadata": {},
   "outputs": [],
   "source": []
  },
  {
   "cell_type": "code",
   "execution_count": null,
   "id": "344021b2",
   "metadata": {},
   "outputs": [],
   "source": []
  },
  {
   "cell_type": "code",
   "execution_count": null,
   "id": "dcfc3d39",
   "metadata": {},
   "outputs": [],
   "source": []
  },
  {
   "cell_type": "code",
   "execution_count": null,
   "id": "88ad3919",
   "metadata": {},
   "outputs": [],
   "source": []
  },
  {
   "cell_type": "code",
   "execution_count": null,
   "id": "ee5025ad",
   "metadata": {},
   "outputs": [],
   "source": []
  },
  {
   "cell_type": "code",
   "execution_count": null,
   "id": "b348df1d",
   "metadata": {},
   "outputs": [],
   "source": []
  },
  {
   "cell_type": "code",
   "execution_count": null,
   "id": "f8411a48",
   "metadata": {},
   "outputs": [],
   "source": []
  },
  {
   "cell_type": "code",
   "execution_count": null,
   "id": "e3e831d2",
   "metadata": {},
   "outputs": [],
   "source": []
  },
  {
   "cell_type": "code",
   "execution_count": null,
   "id": "0aca2cb9",
   "metadata": {},
   "outputs": [],
   "source": []
  },
  {
   "cell_type": "code",
   "execution_count": null,
   "id": "3a8a4837",
   "metadata": {},
   "outputs": [],
   "source": []
  },
  {
   "cell_type": "code",
   "execution_count": null,
   "id": "d76fbb05",
   "metadata": {},
   "outputs": [],
   "source": []
  },
  {
   "cell_type": "code",
   "execution_count": null,
   "id": "b7e60170",
   "metadata": {},
   "outputs": [],
   "source": []
  },
  {
   "cell_type": "code",
   "execution_count": null,
   "id": "a796f698",
   "metadata": {},
   "outputs": [],
   "source": []
  },
  {
   "cell_type": "code",
   "execution_count": null,
   "id": "065ac26f",
   "metadata": {},
   "outputs": [],
   "source": []
  },
  {
   "cell_type": "code",
   "execution_count": null,
   "id": "8c79e414",
   "metadata": {},
   "outputs": [],
   "source": []
  },
  {
   "cell_type": "code",
   "execution_count": null,
   "id": "541d333b",
   "metadata": {},
   "outputs": [],
   "source": []
  },
  {
   "cell_type": "code",
   "execution_count": null,
   "id": "b913307b",
   "metadata": {},
   "outputs": [],
   "source": []
  },
  {
   "cell_type": "code",
   "execution_count": null,
   "id": "299bfe2f",
   "metadata": {},
   "outputs": [],
   "source": []
  },
  {
   "cell_type": "code",
   "execution_count": null,
   "id": "274c4865",
   "metadata": {},
   "outputs": [],
   "source": []
  },
  {
   "cell_type": "code",
   "execution_count": null,
   "id": "7a274873",
   "metadata": {},
   "outputs": [],
   "source": []
  },
  {
   "cell_type": "code",
   "execution_count": null,
   "id": "ff115f90",
   "metadata": {},
   "outputs": [],
   "source": []
  },
  {
   "cell_type": "code",
   "execution_count": null,
   "id": "0810bc50",
   "metadata": {},
   "outputs": [],
   "source": []
  },
  {
   "cell_type": "code",
   "execution_count": null,
   "id": "e6024434",
   "metadata": {},
   "outputs": [],
   "source": []
  },
  {
   "cell_type": "code",
   "execution_count": null,
   "id": "f511a16a",
   "metadata": {},
   "outputs": [],
   "source": []
  },
  {
   "cell_type": "code",
   "execution_count": null,
   "id": "fd635c9d",
   "metadata": {},
   "outputs": [],
   "source": []
  },
  {
   "cell_type": "code",
   "execution_count": null,
   "id": "db838133",
   "metadata": {},
   "outputs": [],
   "source": []
  },
  {
   "cell_type": "code",
   "execution_count": null,
   "id": "93497aee",
   "metadata": {},
   "outputs": [],
   "source": []
  },
  {
   "cell_type": "code",
   "execution_count": null,
   "id": "10400b41",
   "metadata": {},
   "outputs": [],
   "source": []
  },
  {
   "cell_type": "code",
   "execution_count": null,
   "id": "477e7a5e",
   "metadata": {},
   "outputs": [],
   "source": []
  },
  {
   "cell_type": "code",
   "execution_count": null,
   "id": "1b5a4c2c",
   "metadata": {},
   "outputs": [],
   "source": []
  },
  {
   "cell_type": "code",
   "execution_count": null,
   "id": "ff706034",
   "metadata": {},
   "outputs": [],
   "source": []
  },
  {
   "cell_type": "code",
   "execution_count": null,
   "id": "8b465091",
   "metadata": {},
   "outputs": [],
   "source": []
  },
  {
   "cell_type": "code",
   "execution_count": null,
   "id": "a0c4ed7d",
   "metadata": {},
   "outputs": [],
   "source": []
  },
  {
   "cell_type": "code",
   "execution_count": null,
   "id": "009d3683",
   "metadata": {},
   "outputs": [],
   "source": []
  },
  {
   "cell_type": "code",
   "execution_count": null,
   "id": "65dfb5d0",
   "metadata": {},
   "outputs": [],
   "source": []
  },
  {
   "cell_type": "code",
   "execution_count": null,
   "id": "f5beebcd",
   "metadata": {},
   "outputs": [],
   "source": []
  },
  {
   "cell_type": "code",
   "execution_count": null,
   "id": "0dfdbcbb",
   "metadata": {},
   "outputs": [],
   "source": []
  },
  {
   "cell_type": "code",
   "execution_count": null,
   "id": "f56ac55b",
   "metadata": {},
   "outputs": [],
   "source": []
  },
  {
   "cell_type": "code",
   "execution_count": null,
   "id": "ccfa44e7",
   "metadata": {},
   "outputs": [],
   "source": []
  },
  {
   "cell_type": "code",
   "execution_count": null,
   "id": "97f988d9",
   "metadata": {},
   "outputs": [],
   "source": []
  },
  {
   "cell_type": "code",
   "execution_count": null,
   "id": "3c1aad90",
   "metadata": {},
   "outputs": [],
   "source": []
  },
  {
   "cell_type": "code",
   "execution_count": null,
   "id": "9304d3ca",
   "metadata": {},
   "outputs": [],
   "source": []
  },
  {
   "cell_type": "code",
   "execution_count": null,
   "id": "f5a57b71",
   "metadata": {},
   "outputs": [],
   "source": []
  },
  {
   "cell_type": "code",
   "execution_count": null,
   "id": "03e9c8dc",
   "metadata": {},
   "outputs": [],
   "source": []
  },
  {
   "cell_type": "code",
   "execution_count": null,
   "id": "c444daff",
   "metadata": {},
   "outputs": [],
   "source": []
  },
  {
   "cell_type": "code",
   "execution_count": null,
   "id": "dcafaeac",
   "metadata": {},
   "outputs": [],
   "source": []
  },
  {
   "cell_type": "code",
   "execution_count": null,
   "id": "79605a36",
   "metadata": {},
   "outputs": [],
   "source": []
  },
  {
   "cell_type": "code",
   "execution_count": null,
   "id": "108fdaee",
   "metadata": {},
   "outputs": [],
   "source": []
  },
  {
   "cell_type": "code",
   "execution_count": null,
   "id": "88c5339a",
   "metadata": {},
   "outputs": [],
   "source": []
  },
  {
   "cell_type": "code",
   "execution_count": null,
   "id": "a61675c2",
   "metadata": {},
   "outputs": [],
   "source": []
  },
  {
   "cell_type": "code",
   "execution_count": null,
   "id": "70589b3f",
   "metadata": {},
   "outputs": [],
   "source": []
  },
  {
   "cell_type": "code",
   "execution_count": null,
   "id": "53e1f6d8",
   "metadata": {},
   "outputs": [],
   "source": []
  },
  {
   "cell_type": "code",
   "execution_count": null,
   "id": "e23cd6bd",
   "metadata": {},
   "outputs": [],
   "source": []
  },
  {
   "cell_type": "code",
   "execution_count": null,
   "id": "60ce0a62",
   "metadata": {},
   "outputs": [],
   "source": []
  },
  {
   "cell_type": "code",
   "execution_count": null,
   "id": "8d056ded",
   "metadata": {},
   "outputs": [],
   "source": []
  },
  {
   "cell_type": "code",
   "execution_count": null,
   "id": "fd61abbc",
   "metadata": {},
   "outputs": [],
   "source": []
  },
  {
   "cell_type": "code",
   "execution_count": null,
   "id": "1e45529c",
   "metadata": {},
   "outputs": [],
   "source": []
  }
 ],
 "metadata": {
  "kernelspec": {
   "display_name": "Python 3 (ipykernel)",
   "language": "python",
   "name": "python3"
  },
  "language_info": {
   "codemirror_mode": {
    "name": "ipython",
    "version": 3
   },
   "file_extension": ".py",
   "mimetype": "text/x-python",
   "name": "python",
   "nbconvert_exporter": "python",
   "pygments_lexer": "ipython3",
   "version": "3.11.2"
  }
 },
 "nbformat": 4,
 "nbformat_minor": 5
}
