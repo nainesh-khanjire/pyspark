{
 "cells": [
  {
   "cell_type": "code",
   "execution_count": 24,
   "id": "738ff7f8-2f3e-4307-921d-c6a8a847d47f",
   "metadata": {},
   "outputs": [],
   "source": [
    "from pyspark.sql import SparkSession\n"
   ]
  },
  {
   "cell_type": "code",
   "execution_count": 25,
   "id": "43c4d0ed-4c5f-44fa-86e0-a74225169ba9",
   "metadata": {},
   "outputs": [],
   "source": [
    "spark = SparkSession.builder.appName('aggregate').getOrCreate()"
   ]
  },
  {
   "cell_type": "code",
   "execution_count": 26,
   "id": "80bea6cf-a218-4eb5-83e6-6a0995043643",
   "metadata": {},
   "outputs": [
    {
     "data": {
      "text/html": [
       "\n",
       "            <div>\n",
       "                <p><b>SparkSession - in-memory</b></p>\n",
       "                \n",
       "        <div>\n",
       "            <p><b>SparkContext</b></p>\n",
       "\n",
       "            <p><a href=\"http://zephyrus:4041\">Spark UI</a></p>\n",
       "\n",
       "            <dl>\n",
       "              <dt>Version</dt>\n",
       "                <dd><code>v3.3.1</code></dd>\n",
       "              <dt>Master</dt>\n",
       "                <dd><code>local[*]</code></dd>\n",
       "              <dt>AppName</dt>\n",
       "                <dd><code>aggregate</code></dd>\n",
       "            </dl>\n",
       "        </div>\n",
       "        \n",
       "            </div>\n",
       "        "
      ],
      "text/plain": [
       "<pyspark.sql.session.SparkSession at 0x247f763fac0>"
      ]
     },
     "execution_count": 26,
     "metadata": {},
     "output_type": "execute_result"
    }
   ],
   "source": [
    "spark"
   ]
  },
  {
   "cell_type": "code",
   "execution_count": 27,
   "id": "d4830c96-4d08-4474-a3cd-b64a325ebe18",
   "metadata": {},
   "outputs": [
    {
     "name": "stdout",
     "output_type": "stream",
     "text": [
      "+---------+------------+------+\n",
      "|     name| departments|salary|\n",
      "+---------+------------+------+\n",
      "|   pankaj|data analyst| 34000|\n",
      "|  nainesh|data analyst| 40000|\n",
      "| nachiket|data analyst| 50000|\n",
      "|    nitin|     web dev| 50000|\n",
      "|   aditya|   architect| 35000|\n",
      "|samruddhi|   architect| 60000|\n",
      "|  sourabh|   architect| 67000|\n",
      "|   snehal|   architect| 20000|\n",
      "|   viraj |software dev| 32000|\n",
      "|  prajwal|software dev| 50000|\n",
      "|   sanket|    engineer| 34000|\n",
      "+---------+------------+------+\n",
      "\n"
     ]
    }
   ],
   "source": [
    "df_ps= spark.read.csv('../data/groupby.csv',header=True,inferSchema=True)\n",
    "df_ps.show()"
   ]
  },
  {
   "cell_type": "code",
   "execution_count": 28,
   "id": "ce6e7197-7e88-4adf-b2bd-534a5b0c9c1a",
   "metadata": {},
   "outputs": [
    {
     "name": "stdout",
     "output_type": "stream",
     "text": [
      "root\n",
      " |-- name: string (nullable = true)\n",
      " |-- departments: string (nullable = true)\n",
      " |-- salary: integer (nullable = true)\n",
      "\n"
     ]
    }
   ],
   "source": [
    "df_ps.printSchema()"
   ]
  },
  {
   "cell_type": "code",
   "execution_count": 29,
   "id": "65b66b27-6ff8-49b6-a41d-4aa2603afe3f",
   "metadata": {},
   "outputs": [
    {
     "name": "stdout",
     "output_type": "stream",
     "text": [
      "+---------+-----------+\n",
      "|     name|sum(salary)|\n",
      "+---------+-----------+\n",
      "|  prajwal|      50000|\n",
      "|  sourabh|      67000|\n",
      "|   snehal|      20000|\n",
      "| nachiket|      50000|\n",
      "|    nitin|      50000|\n",
      "|   pankaj|      34000|\n",
      "|samruddhi|      60000|\n",
      "|   sanket|      34000|\n",
      "|   viraj |      32000|\n",
      "|  nainesh|      40000|\n",
      "|   aditya|      35000|\n",
      "+---------+-----------+\n",
      "\n"
     ]
    }
   ],
   "source": [
    "# group by function\n",
    "\n",
    "df_ps.groupBy('name').sum().show()"
   ]
  },
  {
   "cell_type": "code",
   "execution_count": 32,
   "id": "5452aee3-1ea7-4a7e-9dfa-16427d665163",
   "metadata": {},
   "outputs": [
    {
     "name": "stdout",
     "output_type": "stream",
     "text": [
      "+------------+-----------+\n",
      "| departments|sum(salary)|\n",
      "+------------+-----------+\n",
      "|data analyst|     124000|\n",
      "|software dev|      82000|\n",
      "|   architect|     182000|\n",
      "|     web dev|      50000|\n",
      "|    engineer|      34000|\n",
      "+------------+-----------+\n",
      "\n"
     ]
    }
   ],
   "source": [
    "# this gives total sum of salary for each department\n",
    "df_ps.groupBy('departments').sum().show()"
   ]
  },
  {
   "cell_type": "code",
   "execution_count": 35,
   "id": "b011fbfa-2545-473a-9c3c-41bec6bdaa54",
   "metadata": {},
   "outputs": [
    {
     "name": "stdout",
     "output_type": "stream",
     "text": [
      "+------------+------------------+\n",
      "| departments|       avg(salary)|\n",
      "+------------+------------------+\n",
      "|data analyst|41333.333333333336|\n",
      "|software dev|           41000.0|\n",
      "|   architect|           45500.0|\n",
      "|     web dev|           50000.0|\n",
      "|    engineer|           34000.0|\n",
      "+------------+------------------+\n",
      "\n"
     ]
    }
   ],
   "source": [
    "# find mean of all salaries\n",
    "\n",
    "df_ps.groupBy('departments').mean().show()"
   ]
  },
  {
   "cell_type": "code",
   "execution_count": 38,
   "id": "06c0f521-ebd0-4407-8dfd-a9a928763986",
   "metadata": {},
   "outputs": [
    {
     "name": "stdout",
     "output_type": "stream",
     "text": [
      "+------------+-----+\n",
      "| departments|count|\n",
      "+------------+-----+\n",
      "|data analyst|    3|\n",
      "|software dev|    2|\n",
      "|   architect|    4|\n",
      "|     web dev|    1|\n",
      "|    engineer|    1|\n",
      "+------------+-----+\n",
      "\n"
     ]
    }
   ],
   "source": [
    "# Total employees\n",
    "\n",
    "df_ps.groupBy('departments').count().show()"
   ]
  },
  {
   "cell_type": "code",
   "execution_count": 42,
   "id": "dea27495-d697-487d-8117-d156432ad6ce",
   "metadata": {},
   "outputs": [
    {
     "name": "stdout",
     "output_type": "stream",
     "text": [
      "+-----------+\n",
      "|sum(salary)|\n",
      "+-----------+\n",
      "|     472000|\n",
      "+-----------+\n",
      "\n"
     ]
    }
   ],
   "source": [
    "# total expenditure\n",
    "df_ps.agg({'salary':'sum'}).show()"
   ]
  },
  {
   "cell_type": "code",
   "execution_count": 45,
   "id": "9096db9b-9efc-444e-bf3b-9491bfbfa824",
   "metadata": {},
   "outputs": [
    {
     "name": "stdout",
     "output_type": "stream",
     "text": [
      "+------------+-----------+\n",
      "| departments|max(salary)|\n",
      "+------------+-----------+\n",
      "|data analyst|      50000|\n",
      "|software dev|      50000|\n",
      "|   architect|      67000|\n",
      "|     web dev|      50000|\n",
      "|    engineer|      34000|\n",
      "+------------+-----------+\n",
      "\n"
     ]
    }
   ],
   "source": [
    "# max salary in each department\n",
    "df_ps.groupBy('departments').max().show()\n"
   ]
  },
  {
   "cell_type": "code",
   "execution_count": null,
   "id": "6403f88f-492c-4450-950d-7c6ac60a91d1",
   "metadata": {},
   "outputs": [],
   "source": []
  }
 ],
 "metadata": {
  "kernelspec": {
   "display_name": "Python 3",
   "language": "python",
   "name": "python3"
  },
  "language_info": {
   "codemirror_mode": {
    "name": "ipython",
    "version": 3
   },
   "file_extension": ".py",
   "mimetype": "text/x-python",
   "name": "python",
   "nbconvert_exporter": "python",
   "pygments_lexer": "ipython3",
   "version": "3.9.12 (main, Apr  4 2022, 05:22:27) [MSC v.1916 64 bit (AMD64)]"
  },
  "vscode": {
   "interpreter": {
    "hash": "e362d06cc908f32e8db6920f0b7bc6754cc7557171ff01d64b5f38263a887f00"
   }
  }
 },
 "nbformat": 4,
 "nbformat_minor": 5
}
