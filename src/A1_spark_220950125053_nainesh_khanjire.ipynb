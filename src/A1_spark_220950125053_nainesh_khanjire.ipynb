{
 "cells": [
  {
   "cell_type": "markdown",
   "id": "822d99e9-7b51-4c45-b814-055824ddebb0",
   "metadata": {},
   "source": [
    "## ***1. Write a Python program to filter all the prime factors from a RDD which was created from a list of N natural numbers***"
   ]
  },
  {
   "cell_type": "code",
   "execution_count": 11,
   "id": "c9ae2886-2d4e-453b-a944-99a9e42d51a3",
   "metadata": {},
   "outputs": [],
   "source": [
    "# importing pyspark\n",
    "from pyspark import SparkContext,SparkConf "
   ]
  },
  {
   "cell_type": "code",
   "execution_count": 12,
   "id": "95a799be-b602-4a1c-9d24-13012ad3fa0f",
   "metadata": {},
   "outputs": [],
   "source": [
    "conf = SparkConf().setAppName('prime')"
   ]
  },
  {
   "cell_type": "code",
   "execution_count": null,
   "id": "15be4b8b-dd77-43df-bc24-8e39fc8e86ca",
   "metadata": {},
   "outputs": [],
   "source": [
    "sc = SparkContext(conf=conf)"
   ]
  },
  {
   "cell_type": "code",
   "execution_count": 14,
   "id": "4f1239eb-d8c3-4f85-afc7-8bd655c2fdd0",
   "metadata": {},
   "outputs": [
    {
     "data": {
      "text/html": [
       "\n",
       "        <div>\n",
       "            <p><b>SparkContext</b></p>\n",
       "\n",
       "            <p><a href=\"http://zephyrus:4040\">Spark UI</a></p>\n",
       "\n",
       "            <dl>\n",
       "              <dt>Version</dt>\n",
       "                <dd><code>v3.3.1</code></dd>\n",
       "              <dt>Master</dt>\n",
       "                <dd><code>local[*]</code></dd>\n",
       "              <dt>AppName</dt>\n",
       "                <dd><code>prime</code></dd>\n",
       "            </dl>\n",
       "        </div>\n",
       "        "
      ],
      "text/plain": [
       "<SparkContext master=local[*] appName=prime>"
      ]
     },
     "execution_count": 14,
     "metadata": {},
     "output_type": "execute_result"
    }
   ],
   "source": [
    "sc"
   ]
  },
  {
   "cell_type": "code",
   "execution_count": 15,
   "id": "56a15c55-f217-433b-9c84-b90d582f6717",
   "metadata": {},
   "outputs": [],
   "source": [
    "# create list of natural numbers\n",
    "l = [1,2,3,4,5,6,7,8,9]"
   ]
  },
  {
   "cell_type": "code",
   "execution_count": 16,
   "id": "4030de5b-b15b-45d7-8ef2-514a24b90bd9",
   "metadata": {},
   "outputs": [],
   "source": [
    "rdd = sc.parallelize(l)"
   ]
  },
  {
   "cell_type": "code",
   "execution_count": 17,
   "id": "0d39d7d8-02fd-4bc3-8a99-ad411ae0e82a",
   "metadata": {},
   "outputs": [
    {
     "data": {
      "text/plain": [
       "([1, 2, 3, 4, 5, 6, 7, 8, 9],\n",
       " ParallelCollectionRDD[2] at readRDDFromFile at PythonRDD.scala:274)"
      ]
     },
     "execution_count": 17,
     "metadata": {},
     "output_type": "execute_result"
    }
   ],
   "source": [
    "rdd.collect(),rdd"
   ]
  },
  {
   "cell_type": "code",
   "execution_count": 18,
   "id": "9edfac18-86ae-4364-bf32-96898b05e0a3",
   "metadata": {},
   "outputs": [],
   "source": [
    "def prime(n):\n",
    "    if n<=1:\n",
    "        return False\n",
    "        for i in range(2,n):\n",
    "            if n%i==0:\n",
    "                break\n",
    "            else:\n",
    "                return n"
   ]
  },
  {
   "cell_type": "code",
   "execution_count": 19,
   "id": "44c751d4-c6c9-4fe1-b7a3-b253d2cc21e4",
   "metadata": {},
   "outputs": [],
   "source": [
    "rdd1 = rdd.map(prime)"
   ]
  },
  {
   "cell_type": "code",
   "execution_count": null,
   "id": "09620dfd-d0ef-4e1b-875d-b50baf98d335",
   "metadata": {},
   "outputs": [],
   "source": [
    "rdd1.collect()"
   ]
  }
 ],
 "metadata": {
  "kernelspec": {
   "display_name": "Python 3 (ipykernel)",
   "language": "python",
   "name": "python3"
  },
  "language_info": {
   "codemirror_mode": {
    "name": "ipython",
    "version": 3
   },
   "file_extension": ".py",
   "mimetype": "text/x-python",
   "name": "python",
   "nbconvert_exporter": "python",
   "pygments_lexer": "ipython3",
   "version": "3.9.12"
  }
 },
 "nbformat": 4,
 "nbformat_minor": 5
}
